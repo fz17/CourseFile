{
 "cells": [
  {
   "cell_type": "markdown",
   "metadata": {},
   "source": [
    "<center> <font color = #82318E size = 5 face = \"微软雅黑\" > pandas の 测试 </font> </center>"
   ]
  },
  {
   "cell_type": "markdown",
   "metadata": {},
   "source": [
    "<center> <font color = #82318E size = 4 face = \"微软雅黑\" > 1. 一维数据类型 Series </font> </center>"
   ]
  },
  {
   "cell_type": "code",
   "execution_count": 1,
   "metadata": {
    "collapsed": true
   },
   "outputs": [],
   "source": [
    "import pandas as pd"
   ]
  },
  {
   "cell_type": "code",
   "execution_count": 12,
   "metadata": {},
   "outputs": [
    {
     "name": "stdout",
     "output_type": "stream",
     "text": [
      "\n"
     ]
    }
   ],
   "source": [
    "'''\n",
    "数据索引是 pandas 数据结构中的一大特性, \n",
    "它主要的功能是帮助我们更快速地定位数据\n",
    "'''\n",
    "print()"
   ]
  },
  {
   "cell_type": "markdown",
   "metadata": {},
   "source": [
    "<center> <font color = #82318E size = 3 face = \"微软雅黑\" > 字典 -> Series </font> </center>"
   ]
  },
  {
   "cell_type": "code",
   "execution_count": 15,
   "metadata": {},
   "outputs": [
    {
     "name": "stdout",
     "output_type": "stream",
     "text": [
      "b    20.0\n",
      "c    30.0\n",
      "d     NaN\n",
      "a    10.0\n",
      "dtype: float64\n"
     ]
    }
   ],
   "source": [
    "d = {'a' : 10, 'b' : 20, 'c' : 30}\n",
    "s = pd.Series(d, index = ['b', 'c', 'd', 'a'])\n",
    "print(s)"
   ]
  },
  {
   "cell_type": "markdown",
   "metadata": {},
   "source": [
    "<center> <font color = #82318E size = 3 face = \"微软雅黑\" > ndarray -> Series </font> </center>"
   ]
  },
  {
   "cell_type": "code",
   "execution_count": 19,
   "metadata": {},
   "outputs": [
    {
     "name": "stdout",
     "output_type": "stream",
     "text": [
      "<class 'numpy.ndarray'>\n",
      "[ 2  4  6  8 10]\n",
      "\n",
      "a     2\n",
      "b     4\n",
      "c     6\n",
      "d     8\n",
      "e    10\n",
      "dtype: int64\n",
      "\n",
      "0     2\n",
      "1     4\n",
      "2     6\n",
      "3     8\n",
      "4    10\n",
      "dtype: int64\n"
     ]
    }
   ],
   "source": [
    "import numpy as np\n",
    "\n",
    "d = np.arange(2, 11, 2)\n",
    "print(type(d))\n",
    "print(d)\n",
    "print()\n",
    "\n",
    "index = ['a', 'b', 'c', 'd', 'e']\n",
    "\n",
    "s = pd.Series(d, index)\n",
    "print(s)\n",
    "print()\n",
    "\n",
    "'''\n",
    "若不指定索引, 则\n",
    "默认为自然数, 由0始\n",
    "'''\n",
    "s = pd.Series(d)\n",
    "print(s)"
   ]
  },
  {
   "cell_type": "markdown",
   "metadata": {},
   "source": [
    "<center> <font color = #82318E size = 3 face = \"微软雅黑\" > 基本操作 </font> </center>"
   ]
  },
  {
   "cell_type": "code",
   "execution_count": 29,
   "metadata": {},
   "outputs": [
    {
     "name": "stdout",
     "output_type": "stream",
     "text": [
      "a     2\n",
      "b     4\n",
      "c     6\n",
      "d     8\n",
      "e    10\n",
      "dtype: int64\n",
      "\n",
      "a     2\n",
      "c     4\n",
      "e     6\n",
      "d     8\n",
      "b    10\n",
      "dtype: int64\n",
      "\n",
      "s1 + s2 :\n",
      "a     4\n",
      "b    14\n",
      "c    10\n",
      "d    16\n",
      "e    16\n",
      "dtype: int64\n",
      "\n",
      "s1 * s2 :\n",
      "a     4\n",
      "b    40\n",
      "c    24\n",
      "d    64\n",
      "e    60\n",
      "dtype: int64\n",
      "\n"
     ]
    }
   ],
   "source": [
    "d = np.arange(2, 11, 2)\n",
    "\n",
    "index1 = ['a', 'b', 'c', 'd', 'e']\n",
    "index2 = ['a', 'c', 'e', 'd', 'b']\n",
    "\n",
    "s1 = pd.Series(d, index1)\n",
    "print(s1)\n",
    "print()\n",
    "\n",
    "s2 = pd.Series(d, index2)\n",
    "print(s2)\n",
    "print()\n",
    "\n",
    "print('s1 + s2 :')\n",
    "print(s1 + s2)\n",
    "print()\n",
    "\n",
    "print('s1 * s2 :')\n",
    "print(s1 * s2)\n",
    "print()"
   ]
  },
  {
   "cell_type": "markdown",
   "metadata": {},
   "source": [
    "<center> <font color = #82318E size = 4 face = \"微软雅黑\" > 2. 二维数据类型 DataFrame </font> </center>"
   ]
  },
  {
   "cell_type": "markdown",
   "metadata": {},
   "source": [
    "<center> <font color = #82318E size = 3 face = \"微软雅黑\" > Series の 字典 -> DataFrame </font> </center>"
   ]
  },
  {
   "cell_type": "code",
   "execution_count": 43,
   "metadata": {},
   "outputs": [
    {
     "name": "stdout",
     "output_type": "stream",
     "text": [
      "<class 'pandas.core.frame.DataFrame'>\n",
      "       Var1  Var2\n",
      "Case1     5     3\n",
      "Case2     2     2\n",
      "Case3     3     1\n"
     ]
    }
   ],
   "source": [
    "'''\n",
    "字典中是变量名\n",
    "'''\n",
    "d = {'Var1' : pd.Series([5, 2, 3], index = ['Case1', 'Case2', 'Case3']), \n",
    "     'Var2' : pd.Series([3, 2, 1], index = ['Case1', 'Case2', 'Case3'])}\n",
    "\n",
    "d = pd.DataFrame(d)\n",
    "print(type(d))\n",
    "print(d)"
   ]
  },
  {
   "cell_type": "markdown",
   "metadata": {},
   "source": [
    "<center> <font color = #82318E size = 3 face = \"微软雅黑\" > ndarrays Or lists の 字典 -> DataFrame </font> </center>"
   ]
  },
  {
   "cell_type": "code",
   "execution_count": 44,
   "metadata": {},
   "outputs": [
    {
     "name": "stdout",
     "output_type": "stream",
     "text": [
      "   Var1  Var2\n",
      "0     5     3\n",
      "1     2     2\n",
      "2     3     1\n",
      "\n",
      "       Var1  Var2\n",
      "Case1     5     3\n",
      "Case2     2     2\n",
      "Case3     3     1\n",
      "\n"
     ]
    }
   ],
   "source": [
    "'''\n",
    "字典中是 ndarray 或 list, \n",
    "索引再另指定\n",
    "'''\n",
    "# 未指定索引\n",
    "d = pd.DataFrame({'Var1' : [5, 2, 3], 'Var2' : [3, 2, 1]}) \n",
    "print(d)\n",
    "print()\n",
    "\n",
    "# 指定索引\n",
    "d = pd.DataFrame({'Var1' : [5, 2, 3], 'Var2' : [3, 2, 1]}, \n",
    "                 index = ['Case1', 'Case2', 'Case3'])      \n",
    "print(d)\n",
    "print()"
   ]
  },
  {
   "cell_type": "markdown",
   "metadata": {},
   "source": [
    "<center> <font color = #82318E size = 3 face = \"微软雅黑\" > DataFrame.from_items 读取数据 </font> </center>"
   ]
  },
  {
   "cell_type": "code",
   "execution_count": 76,
   "metadata": {},
   "outputs": [
    {
     "name": "stdout",
     "output_type": "stream",
     "text": [
      "       Var1  Var2  Var3\n",
      "Case1     1     2     3\n",
      "Case2     4     5     6\n"
     ]
    }
   ],
   "source": [
    "d = pd.DataFrame.from_items([('Case1', [1, 2, 3]), ('Case2', [4, 5, 6])], \n",
    "                            orient = 'index', columns = ['Var1', 'Var2', 'Var3'])\n",
    "print(d)"
   ]
  },
  {
   "cell_type": "markdown",
   "metadata": {},
   "source": [
    "<center> <font color = #82318E size = 3 face = \"微软雅黑\" > read_csv 读取数据 </font> </center>"
   ]
  },
  {
   "cell_type": "code",
   "execution_count": 236,
   "metadata": {},
   "outputs": [
    {
     "name": "stdout",
     "output_type": "stream",
     "text": [
      "  Unnamed: 0  Var1  Var2  Var3\n",
      "0      Case1     5     3     2\n",
      "1      Case2     1     2     3\n",
      "\n",
      "       Var1  Var2  Var3\n",
      "Case1     5     3     2\n",
      "Case2     1     2     3\n",
      "------------------------------------------------------------\n",
      "\n",
      "   Case1  5  3  2\n",
      "0  Case2  1  2  3\n",
      "\n",
      "       Var1  Var2  Var3\n",
      "Case1     5     3     2\n",
      "Case2     1     2     3\n",
      "------------------------------------------------------------\n",
      "\n",
      "   5  3  2\n",
      "0  1  2  3\n",
      "\n",
      "       Var1  Var2  Var3\n",
      "Case1     5     3     2\n",
      "Case2     1     2     3\n",
      "------------------------------------------------------------\n",
      "\n"
     ]
    }
   ],
   "source": [
    "d1 = pd.read_csv('./PandasTestcsv_v1.csv', sep = ';')\n",
    "print(d1)\n",
    "print()\n",
    "d1 = pd.read_csv('./PandasTestcsv_v1.csv', sep = ';', index_col = 0)\n",
    "print(d1)\n",
    "print('-'*60, end = '\\n' * 2)\n",
    "\n",
    "\n",
    "d2 = pd.read_csv('./PandasTestcsv_v2.csv', sep = ';')\n",
    "print(d2)\n",
    "print()\n",
    "d2 = pd.read_csv('./PandasTestcsv_v2.csv', sep = ';', index_col = 0, \n",
    "                 names = ['Var1', 'Var2', 'Var3'])\n",
    "print(d2)\n",
    "print('-'*60, end = '\\n' * 2)\n",
    "\n",
    "\n",
    "d3 = pd.read_csv('./PandasTestcsv_v3.csv', sep = ';')\n",
    "print(d3)\n",
    "print()\n",
    "d3 = pd.read_csv('./PandasTestcsv_v3.csv', sep = ';', header = None, index_col = None, \n",
    "                 prefix = 'V')\n",
    "d3 = d3.rename(index = {0 : 'Case1', 1 : 'Case2'}, \n",
    "               columns = {'V0' : 'Var1', 'V1' : 'Var2', 'V2' :'Var3'})\n",
    "print(d3)\n",
    "print('-'*60, end = '\\n' * 2)"
   ]
  },
  {
   "cell_type": "code",
   "execution_count": 238,
   "metadata": {},
   "outputs": [
    {
     "name": "stdout",
     "output_type": "stream",
     "text": [
      "   5  3  2\n",
      "0  1  2  3\n",
      "\n",
      "       Var1  Var2  Var3\n",
      "Case1     5     3     2\n",
      "Case2     1     2     3\n"
     ]
    }
   ],
   "source": [
    "'''\n",
    "炫一波技\n",
    "'''\n",
    "\n",
    "d3 = pd.read_csv('./PandasTestcsv_v3.csv', sep = ';')\n",
    "print(d3)\n",
    "print()\n",
    "\n",
    "'''\n",
    "注意, \n",
    "产生 names の list 时, 用了 map \n",
    "产生 index の dictionary 时, 用了 for \n",
    "'''\n",
    "d3 = pd.read_csv('./PandasTestcsv_v3.csv', sep = ';', header = None, index_col = None, \n",
    "                 names = list(map(lambda x : 'Var{}'.format(x), range(1, 4, 1))))\n",
    "\n",
    "d3 = d3.rename(index = dict((x, 'Case{}'.format(x + 1)) for x in range(2)))\n",
    "\n",
    "print(d3)"
   ]
  },
  {
   "cell_type": "markdown",
   "metadata": {},
   "source": [
    "<center> <font color = #82318E size = 3 face = \"微软雅黑\" > to_excel 写回数据 </font> </center>"
   ]
  },
  {
   "cell_type": "code",
   "execution_count": 240,
   "metadata": {
    "collapsed": true
   },
   "outputs": [],
   "source": [
    "d3.to_excel('./PandasTestcsv_v3.xlsx', sheet_name = 'Sheet1')"
   ]
  },
  {
   "cell_type": "markdown",
   "metadata": {},
   "source": [
    "<center> <font color = #82318E size = 3 face = \"微软雅黑\" > 列选择  列增  列删 </font> </center>"
   ]
  },
  {
   "cell_type": "code",
   "execution_count": 334,
   "metadata": {},
   "outputs": [
    {
     "name": "stdout",
     "output_type": "stream",
     "text": [
      "       Var1  Var2  Var3\n",
      "Case1     5     3     2\n",
      "Case2     1     2     3\n",
      "\n",
      "Case1    3\n",
      "Case2    2\n",
      "Name: Var2, dtype: int64\n",
      "\n",
      "       Var1  Var2\n",
      "Case1     5     3\n",
      "Case2     1     2\n",
      "\n",
      "       Var1  Var4  Var2\n",
      "Case1     5     2     3\n",
      "Case2     1     6     2\n"
     ]
    }
   ],
   "source": [
    "d = pd.DataFrame({'Var1' : [5, 1], 'Var2' : [3, 2], 'Var3' : [2, 3]}, \n",
    "                 index = ['Case1', 'Case2'])  \n",
    "print(d)\n",
    "print()\n",
    "print(d['Var2'])\n",
    "print()\n",
    "\n",
    "d.pop('Var3')\n",
    "print(d)\n",
    "print()\n",
    "\n",
    "# 在'索引1'处插入'Var4', 其值为[2, 6]\n",
    "d.insert(1, 'Var4', [2, 6])\n",
    "print(d)"
   ]
  },
  {
   "cell_type": "markdown",
   "metadata": {},
   "source": [
    "<center> <font color = #82318E size = 3 face = \"微软雅黑\" > 观察 </font> </center>"
   ]
  },
  {
   "cell_type": "code",
   "execution_count": 294,
   "metadata": {
    "collapsed": true
   },
   "outputs": [],
   "source": [
    "import numpy as np\n",
    "def mychoice(size, TOF):\n",
    "    return np.random.choice(range(1,10,1), size = size, replace = TOF)\n"
   ]
  },
  {
   "cell_type": "code",
   "execution_count": 298,
   "metadata": {
    "scrolled": true
   },
   "outputs": [
    {
     "name": "stdout",
     "output_type": "stream",
     "text": [
      "       Var0  Var1\n",
      "Case0     7     6\n",
      "Case1     5     5\n",
      "Case2     6     7\n",
      "Case3     4     1\n",
      "Case4     9     8\n",
      "Case5     1     9\n",
      "Case6     3     9\n",
      "Case7     2     1\n",
      "Case8     8     3\n"
     ]
    }
   ],
   "source": [
    "d = pd.DataFrame({'Var0' : mychoice(9, False), 'Var1' : mychoice(9, True)},\n",
    "                index = list(map(lambda x : 'Case{}'.format(x), range(9))))\n",
    "print(d)"
   ]
  },
  {
   "cell_type": "code",
   "execution_count": 299,
   "metadata": {},
   "outputs": [
    {
     "name": "stdout",
     "output_type": "stream",
     "text": [
      "       Var0  Var1\n",
      "Case0     7     6\n",
      "Case1     5     5\n",
      "Case2     6     7\n",
      "       Var0  Var1\n",
      "Case6     3     9\n",
      "Case7     2     1\n",
      "Case8     8     3\n"
     ]
    }
   ],
   "source": [
    "'''\n",
    "head() 函数, 默认显示前5条\n",
    "tail() 函数, 默认显示后5条\n",
    "'''\n",
    "print(d.head(3))\n",
    "print(d.tail(3))"
   ]
  },
  {
   "cell_type": "markdown",
   "metadata": {},
   "source": [
    "<center> <font color = #82318E size = 3 face = \"微软雅黑\" > 描述 </font> </center>"
   ]
  },
  {
   "cell_type": "code",
   "execution_count": 300,
   "metadata": {},
   "outputs": [
    {
     "name": "stdout",
     "output_type": "stream",
     "text": [
      "           Var0      Var1\n",
      "count  9.000000  9.000000\n",
      "mean   5.000000  5.444444\n",
      "std    2.738613  3.166667\n",
      "min    1.000000  1.000000\n",
      "25%    3.000000  3.000000\n",
      "50%    5.000000  6.000000\n",
      "75%    7.000000  8.000000\n",
      "max    9.000000  9.000000\n"
     ]
    }
   ],
   "source": [
    "print(d.describe())"
   ]
  },
  {
   "cell_type": "code",
   "execution_count": 325,
   "metadata": {},
   "outputs": [
    {
     "name": "stdout",
     "output_type": "stream",
     "text": [
      "       Var0  Var1\n",
      "Case0     7     6\n",
      "Case1     5     5\n",
      "Case2     6     7\n",
      "Case3     4     1\n",
      "Case4     9     8\n",
      "Case5     1     9\n",
      "Case6     3     9\n",
      "Case7     2     1\n",
      "Case8     8     3\n",
      "\n",
      "Var0    Case5\n",
      "Var1    Case3\n",
      "dtype: object\n",
      "\n",
      "Var0, Case5 : 1\n",
      "Var1, Case3 : 1\n"
     ]
    }
   ],
   "source": [
    "'''\n",
    ".idxmin() ,输出最小值所在位置\n",
    ".idxmax() ,输出最大值所在位置\n",
    "'''\n",
    "print(d)\n",
    "print()\n",
    "print(d.idxmin())\n",
    "print()\n",
    "\n",
    "Row = d.idxmin()\n",
    "for j in range(d.shape[1]):\n",
    "    print('{}, {} : {}'\n",
    "          .format('Var{}'.format(j), Row[j], d['Var{}'.format(j)][Row[j]]))"
   ]
  },
  {
   "cell_type": "code",
   "execution_count": 326,
   "metadata": {},
   "outputs": [
    {
     "name": "stdout",
     "output_type": "stream",
     "text": [
      "Var0    9\n",
      "Var1    9\n",
      "dtype: int64\n"
     ]
    }
   ],
   "source": [
    "print(d.count())"
   ]
  },
  {
   "cell_type": "code",
   "execution_count": 333,
   "metadata": {},
   "outputs": [
    {
     "name": "stdout",
     "output_type": "stream",
     "text": [
      "       Var0  Var1\n",
      "Case0     7     6\n",
      "Case1     5     5\n",
      "Case2     6     7\n",
      "Case3     4     1\n",
      "Case4     9     8\n",
      "Case5     1     9\n",
      "Case6     3     9\n",
      "Case7     2     1\n",
      "Case8     8     3\n",
      "\n",
      "Var0    9\n",
      "Var1    9\n",
      "dtype: int64\n",
      "\n",
      "Var0    1\n",
      "Var1    1\n",
      "dtype: int64\n",
      "\n",
      "Var0    45\n",
      "Var1    49\n",
      "dtype: int64\n",
      "\n",
      "Var0    5.000000\n",
      "Var1    5.444444\n",
      "dtype: float64\n",
      "\n",
      "Var0    5.0\n",
      "Var1    6.0\n",
      "dtype: float64\n",
      "\n"
     ]
    }
   ],
   "source": [
    "print(d.abs(), end = '\\n' * 2)\n",
    "print(d.max(), end = '\\n' * 2)\n",
    "print(d.min(), end = '\\n' * 2)\n",
    "print(d.sum(), end = '\\n' * 2)\n",
    "print(d.mean(), end = '\\n' * 2)\n",
    "print(d.median(), end = '\\n' * 2)"
   ]
  },
  {
   "cell_type": "markdown",
   "metadata": {},
   "source": [
    "<center> <font color = #82318E size = 3 face = \"微软雅黑\" > reindex 函数</font> </center>"
   ]
  },
  {
   "cell_type": "code",
   "execution_count": 339,
   "metadata": {},
   "outputs": [
    {
     "name": "stdout",
     "output_type": "stream",
     "text": [
      "       Var0  Var1  Var2\n",
      "Case0     1     4     7\n",
      "Case1     2     5     8\n",
      "Case2     3     6     9\n",
      "       Var0  Var2\n",
      "Case1     2     8\n",
      "Case2     3     9\n"
     ]
    }
   ],
   "source": [
    "d = pd.DataFrame({'Var0': [1, 2, 3], 'Var1': [4, 5, 6], 'Var2': [7, 8, 9]},\n",
    "                 index = ['Case0', 'Case1', 'Case2'])\n",
    "print(d)\n",
    "print()\n",
    "\n",
    "print(d.reindex(columns = ['Var0', 'Var2'],\n",
    "                index = ['Case1', 'Case2']))\n"
   ]
  },
  {
   "cell_type": "markdown",
   "metadata": {},
   "source": [
    "<center> <font color = #82318E size = 3 face = \"微软雅黑\" > 排序 </font> </center>"
   ]
  },
  {
   "cell_type": "code",
   "execution_count": 353,
   "metadata": {},
   "outputs": [
    {
     "name": "stdout",
     "output_type": "stream",
     "text": [
      "       Var0  Var1  Var2\n",
      "Case0     1     4     7\n",
      "Case2     2     5     8\n",
      "Case1     3     6     9\n",
      "\n",
      "       Var0  Var1  Var2\n",
      "Case0     1     4     7\n",
      "Case1     3     6     9\n",
      "Case2     2     5     8\n",
      "\n",
      "       Var0  Var1  Var2\n",
      "Case2     2     5     8\n",
      "Case1     3     6     9\n",
      "Case0     1     4     7\n",
      "\n",
      "       Var0  Var1  Var2\n",
      "Case1     3     6     9\n",
      "Case2     2     5     8\n",
      "Case0     1     4     7\n",
      "\n",
      "       Var0  Var1\n",
      "Case1     3     5\n",
      "Case0     2     4\n",
      "Case2     2     5\n"
     ]
    }
   ],
   "source": [
    "d = pd.DataFrame({'Var0': [1, 2, 3], 'Var2': [7, 8, 9], 'Var1': [4, 5, 6]},\n",
    "                 index = ['Case0', 'Case2', 'Case1'])\n",
    "print(d)\n",
    "print()\n",
    "\n",
    "print(d.sort_index())\n",
    "print()\n",
    "\n",
    "# 按照 index 倒序排列\n",
    "print(d.sort_index(ascending = False))\n",
    "print()\n",
    "\n",
    "# 按照 'Var1' の数值, 不('False')顺序排列\n",
    "print(d.sort_values(by = 'Var1', ascending = False))\n",
    "print()\n",
    "\n",
    "d['Var0']['Case0'] = 2\n",
    "d['Var1']['Case1'] = 5\n",
    "print(d.reindex(columns = ['Var0', 'Var1'], index = ['Case0', 'Case1', 'Case2'])\n",
    "      .sort_values(by = ['Var0','Var1'], ascending = [False, True]))"
   ]
  },
  {
   "cell_type": "markdown",
   "metadata": {},
   "source": [
    "<center> <font color = #82318E size = 3 face = \"微软雅黑\" > 取数 </font> </center>"
   ]
  },
  {
   "cell_type": "code",
   "execution_count": 58,
   "metadata": {
    "scrolled": true
   },
   "outputs": [
    {
     "name": "stdout",
     "output_type": "stream",
     "text": [
      "       Var0  Var1  Var2\n",
      "Case0     2     3     2\n",
      "Case1     4     0     3\n",
      "Case2     9     6     5\n",
      "Case3     3     2     1\n"
     ]
    }
   ],
   "source": [
    "d = pd.DataFrame(np.random.choice(np.arange(10), size = 12, replace = True).reshape(4, 3),\n",
    "                 index = list('Case{}'.format(x) for x in np.arange(4)),\n",
    "                 columns = list('Var{}'.format(y) for y in np.arange(3)))\n",
    "print(d)"
   ]
  },
  {
   "cell_type": "code",
   "execution_count": 60,
   "metadata": {},
   "outputs": [
    {
     "name": "stdout",
     "output_type": "stream",
     "text": [
      "       Var0  Var2\n",
      "Case1     4     3\n",
      "Case3     3     1\n",
      "\n",
      "       Var0  Var2\n",
      "Case1     4     3\n",
      "Case3     3     1\n"
     ]
    }
   ],
   "source": [
    "'''\n",
    "注意观察\n",
    "这两种取数方式\n",
    "'''\n",
    "print(d.loc[['Case1', 'Case3'], 'Var0':'Var3':2])\n",
    "print()\n",
    "\n",
    "print(d.iloc[1:4:2, [0,2]])"
   ]
  },
  {
   "cell_type": "markdown",
   "metadata": {},
   "source": [
    "<center> <font color = #82318E size = 3 face = \"微软雅黑\" > 抽样 </font> </center>"
   ]
  },
  {
   "cell_type": "code",
   "execution_count": 410,
   "metadata": {},
   "outputs": [
    {
     "name": "stdout",
     "output_type": "stream",
     "text": [
      "       Var0  Var1  Var2\n",
      "Case1     5     7     8\n",
      "Case3     2     8     0\n",
      "\n",
      "       Var2  Var1\n",
      "Case0     1     8\n",
      "Case1     8     7\n",
      "Case2     4     6\n",
      "Case3     0     8\n",
      "\n",
      "Case0     True\n",
      "Case1    False\n",
      "Case2    False\n",
      "Case3    False\n",
      "dtype: bool\n",
      "       Var0  Var1  Var2\n",
      "Case0     8     8     1\n",
      "\n",
      "       Var0  Var1  Var2\n",
      "Case0   8.0   8.0   1.0\n",
      "Case1   NaN   NaN   NaN\n",
      "Case2   NaN   NaN   NaN\n",
      "Case3   NaN   NaN   NaN\n",
      "\n",
      "       Var0  Var1  Var2\n",
      "Case0     8     8    -1\n",
      "Case1     5     7     8\n",
      "Case2     0     6     4\n",
      "Case3    -2     8     0\n",
      "\n",
      "       Var0  Var1  Var2\n",
      "Case0    16    16    -1\n",
      "Case1    10    14    16\n",
      "Case2     0    12     8\n",
      "Case3    -4    16     0\n",
      "\n"
     ]
    }
   ],
   "source": [
    "# 在 '维度0' 上随机取 2 \n",
    "print(d.sample(n = 2, axis = 0))\n",
    "print()\n",
    "\n",
    "# 在 '维度1' 上随机取约 60%\n",
    "print(d.sample(frac = 0.6, axis = 1))\n",
    "print()"
   ]
  },
  {
   "cell_type": "markdown",
   "metadata": {},
   "source": [
    "<center> <font color = #82318E size = 3 face = \"微软雅黑\" > 筛选 </font> </center>"
   ]
  },
  {
   "cell_type": "code",
   "execution_count": 418,
   "metadata": {},
   "outputs": [
    {
     "name": "stdout",
     "output_type": "stream",
     "text": [
      "Case0     True\n",
      "Case1    False\n",
      "Case2    False\n",
      "Case3    False\n",
      "dtype: bool\n",
      "       Var0  Var1  Var2\n",
      "Case0     8     8     1\n",
      "\n",
      "       Var0  Var1  Var2\n",
      "Case0   8.0   8.0   1.0\n",
      "Case1   NaN   NaN   NaN\n",
      "Case2   NaN   NaN   NaN\n",
      "Case3   NaN   NaN   NaN\n",
      "\n",
      "       Var0  Var1  Var2\n",
      "Case0     8     8     1\n",
      "\n",
      "       Var0  Var1  Var2\n",
      "Case0     8     8     1\n",
      "\n"
     ]
    }
   ],
   "source": [
    "'''\n",
    "筛选\n",
    "要用 & |, 用 and or 并不行\n",
    "'''\n",
    "print((d['Var0'] > 3) & (d['Var2'] < 3))\n",
    "print(d[(d['Var0'] > 3) & (d['Var2'] < 3)])\n",
    "print()\n",
    "\n",
    "print(d.where((d['Var0'] > 3) & (d['Var2'] < 3)))\n",
    "print()\n",
    "\n",
    "'''\n",
    "query() 函数\n",
    "就是节省了些笔墨\n",
    "\n",
    "下一行这种, d.Var0 就相当于 d['Var0']\n",
    "'''\n",
    "print(d[(d.Var0 > 3) & (d.Var2 < 3)])\n",
    "print()\n",
    "\n",
    "print(d.query('(Var0 > 3) & (Var2 < 3)'))\n",
    "print()"
   ]
  },
  {
   "cell_type": "code",
   "execution_count": 417,
   "metadata": {},
   "outputs": [
    {
     "name": "stdout",
     "output_type": "stream",
     "text": [
      "       Var0  Var1  Var2\n",
      "Case0     8     8    -1\n",
      "Case1     5     7     8\n",
      "Case2     0     6     4\n",
      "Case3    -2     8     0\n",
      "\n",
      "       Var0  Var1  Var2\n",
      "Case0    16    16    -1\n",
      "Case1    10    14    16\n",
      "Case2     0    12     8\n",
      "Case3    -4    16     0\n",
      "\n"
     ]
    }
   ],
   "source": [
    "'''\n",
    "若元素'>3', 则不变, \n",
    "否则取'-d'\n",
    "'''\n",
    "print(d.where(d > 3, - d))\n",
    "print()\n",
    "\n",
    "'''\n",
    "那你可能要问了,\n",
    "若不想取'd', 那该如何操作呢:\n",
    "若元素'>3', 则取 '2 * d', \n",
    "否则取'- d * d'\n",
    "'''\n",
    "print(pd.DataFrame.where(2 * d, d > 3, - d * d))\n",
    "print()"
   ]
  },
  {
   "cell_type": "markdown",
   "metadata": {},
   "source": [
    "<center> <font color = #82318E size = 3 face = \"微软雅黑\" > 缺失值 </font> </center>"
   ]
  },
  {
   "cell_type": "code",
   "execution_count": 5,
   "metadata": {
    "scrolled": false
   },
   "outputs": [
    {
     "name": "stdout",
     "output_type": "stream",
     "text": [
      "            Time  Var0  Var1  Var2\n",
      "Case0        NaT   2.0   9.0   NaN\n",
      "Case1        NaT   2.0   NaN   4.0\n",
      "Case2 2018-04-02   0.0   0.0   9.0\n",
      "Case3        NaT   5.0   4.0   1.0\n",
      "Case4 2018-04-02   NaN   NaN   NaN\n",
      "\n",
      "        Time   Var0   Var1   Var2\n",
      "Case0   True  False  False   True\n",
      "Case1   True  False   True  False\n",
      "Case2  False  False  False  False\n",
      "Case3   True  False  False  False\n",
      "Case4  False   True   True   True\n",
      "\n",
      "        Time   Var0   Var1   Var2\n",
      "Case0  False   True   True  False\n",
      "Case1  False   True  False   True\n",
      "Case2   True   True   True   True\n",
      "Case3  False   True   True   True\n",
      "Case4   True  False  False  False\n",
      "\n"
     ]
    }
   ],
   "source": [
    "d = pd.DataFrame(np.random.choice(np.arange(10), size = 12, replace = True).reshape(4, 3),\n",
    "                 index = list('Case{}'.format(x) for x in np.arange(4)),\n",
    "                 columns = list('Var{}'.format(y) for y in np.arange(3)))\n",
    "d = d.reindex(index = list('Case{}'.format(x) for x in np.arange(5)))\n",
    "\n",
    "d.insert(value = pd.Timestamp('2018-04-02'), loc = 0, column = 'Time')\n",
    "\n",
    "d.loc[['Case0', 'Case3'], ['Time', 'Time']] = np.nan\n",
    "\n",
    "d.loc['Case1', 0:5:2] = np.nan\n",
    "\n",
    "d.iloc[0, 3] = np.nan\n",
    "'''\n",
    "d.loc[] 可以用来取数,\n",
    "有点像 numpy 里面の切片操作\n",
    "\n",
    "d.iloc[] 取数时, \n",
    "使用的是位置索引,\n",
    "而非名称索引\n",
    "'''\n",
    "print(d)\n",
    "print()\n",
    "\n",
    "# .ianull(): 若是 NaN(Not a Number), 则返回 True\n",
    "print(d.isnull())\n",
    "print()\n",
    "\n",
    "# .notnull(): 若不是 NaN, 则返回 True\n",
    "print(d.notnull())\n",
    "print()"
   ]
  },
  {
   "cell_type": "markdown",
   "metadata": {},
   "source": [
    "<center> <font color = #82318E size = 3 face = \"微软雅黑\" > 缺失值の清除 </font> </center>"
   ]
  },
  {
   "cell_type": "code",
   "execution_count": 24,
   "metadata": {},
   "outputs": [
    {
     "name": "stdout",
     "output_type": "stream",
     "text": [
      "            Time  Var0  Var1  Var2\n",
      "Case0        NaT   3.0   6.0   NaN\n",
      "Case1        NaT   3.0   NaN   4.0\n",
      "Case2 2018-04-02   8.0   9.0   7.0\n",
      "Case3        NaT   5.0   1.0   8.0\n",
      "Case4 2018-04-02   NaN   NaN   NaN\n",
      "\n",
      "            Time  Var0  Var1  Var2\n",
      "Case2 2018-04-02   8.0   9.0   7.0\n",
      "\n",
      "       Var0\n",
      "Case0   3.0\n",
      "Case1   3.0\n",
      "Case2   8.0\n",
      "Case3   5.0\n",
      "\n"
     ]
    }
   ],
   "source": [
    "print(d, end = '\\n' * 2)\n",
    "\n",
    "# 清除\n",
    "print(d.dropna(), end = '\\n' * 2)\n",
    "\n",
    "print(d.loc['Case0' : 'Case3', ::].dropna(axis = 1), end = '\\n')\n"
   ]
  },
  {
   "cell_type": "markdown",
   "metadata": {},
   "source": [
    "<center> <font color = #82318E size = 3 face = \"微软雅黑\" > 缺失值の填充 </font> </center>"
   ]
  },
  {
   "cell_type": "code",
   "execution_count": 22,
   "metadata": {},
   "outputs": [
    {
     "name": "stdout",
     "output_type": "stream",
     "text": [
      "            Time  Var0  Var1  Var2\n",
      "Case0        NaT   3.0   6.0   NaN\n",
      "Case1        NaT   3.0   NaN   4.0\n",
      "Case2 2018-04-02   8.0   9.0   7.0\n",
      "Case3        NaT   5.0   1.0   8.0\n",
      "Case4 2018-04-02   NaN   NaN   NaN\n",
      "----------------------------------\n",
      "\n",
      "            Time  Var0  Var1  Var2\n",
      "Case0 1970-01-01   3.0   6.0   0.0\n",
      "Case1 1970-01-01   3.0   0.0   4.0\n",
      "Case2 2018-04-02   8.0   9.0   7.0\n",
      "Case3 1970-01-01   5.0   1.0   8.0\n",
      "Case4 2018-04-02   0.0   0.0   0.0\n",
      "\n",
      "            Time  Var0  Var1  Var2\n",
      "Case0        NaT   3.0   6.0   NaN\n",
      "Case1        NaT   3.0   6.0   4.0\n",
      "Case2 2018-04-02   8.0   9.0   7.0\n",
      "Case3 2018-04-02   5.0   1.0   8.0\n",
      "Case4 2018-04-02   5.0   1.0   8.0\n",
      "\n",
      "            Time  Var0  Var1  Var2\n",
      "Case0 2018-04-02   3.0   6.0   4.0\n",
      "Case1 2018-04-02   3.0   9.0   4.0\n",
      "Case2 2018-04-02   8.0   9.0   7.0\n",
      "Case3 2018-04-02   5.0   1.0   8.0\n",
      "Case4 2018-04-02   NaN   NaN   NaN\n",
      "\n",
      "            Time  Var0  Var1  Var2\n",
      "Case0        NaT   3.0   6.0   4.0\n",
      "Case1 2018-04-02   3.0   9.0   4.0\n",
      "Case2 2018-04-02   8.0   9.0   7.0\n",
      "Case3 2018-04-02   5.0   1.0   8.0\n",
      "Case4 2018-04-02   NaN   NaN   NaN\n",
      "\n",
      "            Time  Var0      Var1      Var2\n",
      "Case0        NaT  3.00  6.000000  6.333333\n",
      "Case1        NaT  3.00  5.333333  4.000000\n",
      "Case2 2018-04-02  8.00  9.000000  7.000000\n",
      "Case3        NaT  5.00  1.000000  8.000000\n",
      "Case4 2018-04-02  4.75  5.333333  6.333333\n",
      "\n",
      "            Time  Var0      Var1      Var2\n",
      "Case0        NaT   3.0  6.000000  6.333333\n",
      "Case1        NaT   3.0  5.333333  4.000000\n",
      "Case2 2018-04-02   8.0  9.000000  7.000000\n",
      "Case3        NaT   5.0  1.000000  8.000000\n",
      "Case4 2018-04-02   NaN  5.333333  6.333333\n",
      "\n"
     ]
    }
   ],
   "source": [
    "print(d, end =  '\\n' + '-' * 34 + '\\n' * 2)\n",
    "\n",
    "# 用'数字0'填充\n",
    "print(d.fillna(0), end = '\\n' * 2)\n",
    "\n",
    "# 用前面の数值, 填充nan\n",
    "print(d.fillna(method = 'pad'), end = '\\n' * 2)\n",
    "\n",
    "# 用后面の数值, 填充nan\n",
    "print(d.fillna(method = 'bfill'), end = '\\n' * 2)\n",
    "\n",
    "# 用后面の数值, 最多填充'1'位, 填充nan\n",
    "print(d.fillna(method = 'bfill', limit = 1), end = '\\n')\n"
   ]
  },
  {
   "cell_type": "markdown",
   "metadata": {},
   "source": [
    "<center> <font color = #82318E size = 3 face = \"微软雅黑\" > 缺失值の填充  </font> </center>"
   ]
  },
  {
   "cell_type": "code",
   "execution_count": 7,
   "metadata": {
    "scrolled": false
   },
   "outputs": [
    {
     "name": "stdout",
     "output_type": "stream",
     "text": [
      "            Time  Var0  Var1  Var2\n",
      "Case0        NaT   2.0   9.0   NaN\n",
      "Case1        NaT   2.0   NaN   4.0\n",
      "Case2 2018-04-02   0.0   0.0   9.0\n",
      "Case3        NaT   5.0   4.0   1.0\n",
      "Case4 2018-04-02   NaN   NaN   NaN\n",
      "----------------------------------\n",
      "\n",
      "            Time  Var0      Var1      Var2\n",
      "Case0        NaT  2.00  9.000000  4.666667\n",
      "Case1        NaT  2.00  4.333333  4.000000\n",
      "Case2 2018-04-02  0.00  0.000000  9.000000\n",
      "Case3        NaT  5.00  4.000000  1.000000\n",
      "Case4 2018-04-02  2.25  4.333333  4.666667\n",
      "\n",
      "            Time  Var0      Var1      Var2\n",
      "Case0        NaT   2.0  9.000000  4.666667\n",
      "Case1        NaT   2.0  4.333333  4.000000\n",
      "Case2 2018-04-02   0.0  0.000000  9.000000\n",
      "Case3        NaT   5.0  4.000000  1.000000\n",
      "Case4 2018-04-02   NaN  4.333333  4.666667\n",
      "\n"
     ]
    }
   ],
   "source": [
    "print(d, end =  '\\n' + '-' * 34 + '\\n' * 2)\n",
    "\n",
    "# 用均值, 填充nan\n",
    "print(d.fillna(d.mean()), end = '\\n' * 2)\n",
    "\n",
    "# 用某列の均值, 填充nan\n",
    "print(d.fillna(d.loc[::, ['Var1', 'Var2']].mean()), end = '\\n' * 2)"
   ]
  },
  {
   "cell_type": "code",
   "execution_count": 31,
   "metadata": {},
   "outputs": [
    {
     "name": "stdout",
     "output_type": "stream",
     "text": [
      "   Var0  Var1   Var2\n",
      "0   1.0   1.0    1.0\n",
      "1   2.0   4.0    8.0\n",
      "2   NaN   NaN   27.0\n",
      "3   NaN   NaN   64.0\n",
      "4   NaN   NaN  125.0\n",
      "5   6.0  36.0  216.0\n",
      "\n",
      "   Var0  Var1   Var2\n",
      "0   1.0   1.0    1.0\n",
      "1   2.0   4.0    8.0\n",
      "2   3.0   NaN   27.0\n",
      "3   4.0   NaN   64.0\n",
      "4   5.0   NaN  125.0\n",
      "5   6.0  36.0  216.0\n",
      "\n",
      "   Var0  Var1   Var2\n",
      "0   1.0   1.0    1.0\n",
      "1   2.0   4.0    8.0\n",
      "2   3.0   9.0   27.0\n",
      "3   4.0  16.0   64.0\n",
      "4   5.0   NaN  125.0\n",
      "5   6.0  36.0  216.0\n"
     ]
    }
   ],
   "source": [
    "d = pd.DataFrame(np.fromfunction(lambda a, b : (a + 1) ** (b + 1), (6, 3)),\n",
    "                 index = list(x for x in np.arange(6)),\n",
    "                 columns = list('Var{}'.format(y) for y in np.arange(3)))\n",
    "d.iloc[2:5:1, 0:2:1] = np.nan\n",
    "print(d, end = '\\n' * 2)\n",
    "\n",
    "'''\n",
    "使用插值\n",
    "填充缺失值\n",
    "是个不错の选择,\n",
    "'linear'(线性插值)策略\n",
    "'''\n",
    "d.iloc[::, 0] = d.iloc[::, 0].interpolate(method = 'linear')\n",
    "print(d, end = '\\n' * 2)\n",
    "\n",
    "'''\n",
    "使用'quadratic'(二次插值)策略, \n",
    "沿着'维度0'方向,\n",
    "最多向下'2'位\n",
    "'''\n",
    "d.iloc[::, 1] = d.iloc[::, 1].interpolate(method = 'quadratic', limit = 2, axis = 0)\n",
    "print(d)"
   ]
  },
  {
   "cell_type": "markdown",
   "metadata": {},
   "source": [
    "<center> <font color = #82318E size = 4 face = \"微软雅黑\" > 3. 时间序列 </font> </center>"
   ]
  },
  {
   "cell_type": "markdown",
   "metadata": {},
   "source": [
    "<center> <font color = #82318E size = 3 face = \"微软雅黑\" > 时间戳 </font> </center>"
   ]
  },
  {
   "cell_type": "code",
   "execution_count": 36,
   "metadata": {},
   "outputs": [
    {
     "name": "stdout",
     "output_type": "stream",
     "text": [
      "<class 'pandas._libs.tslib.Timestamp'>\n",
      "2018-04-06 15:21:00\n",
      "<class 'pandas._libs.tslib.Timestamp'>\n",
      "2018-06-04 15:21:00\n"
     ]
    }
   ],
   "source": [
    "'''\n",
    "录入 时间戳\n",
    "'''\n",
    "t1 = pd.Timestamp('2018-04-06 15:21:00')\n",
    "print(type(t1))\n",
    "print(t1)\n",
    "\n",
    "t2 = pd.Timestamp('06/04/2018 15:21:00')\n",
    "print(type(t2))\n",
    "print(t2)"
   ]
  },
  {
   "cell_type": "markdown",
   "metadata": {},
   "source": [
    "<center> <font color = #82318E size = 3 face = \"微软雅黑\" > 时间索引 </font> </center>"
   ]
  },
  {
   "cell_type": "code",
   "execution_count": 51,
   "metadata": {},
   "outputs": [
    {
     "name": "stdout",
     "output_type": "stream",
     "text": [
      "DatetimeIndex(['2018-04-02', '2018-04-03', '2018-04-04', '2018-04-05',\n",
      "               '2018-04-06', '2018-04-07', '2018-04-08'],\n",
      "              dtype='datetime64[ns]', freq='D')\n",
      "DatetimeIndex(['2018-04-02 00:00:00', '2018-04-02 01:25:40',\n",
      "               '2018-04-02 02:51:20', '2018-04-02 04:17:00',\n",
      "               '2018-04-02 05:42:40', '2018-04-02 07:08:20',\n",
      "               '2018-04-02 08:34:00'],\n",
      "              dtype='datetime64[ns]', freq='5140S')\n"
     ]
    }
   ],
   "source": [
    "'''\n",
    "开始时间为'2018-04-02', \n",
    "按时间间隔'D'(Day, 天), \n",
    "产生'7'个数据\n",
    "'''\n",
    "T3 = pd.date_range(start = '2018-04-02', periods = 7, freq = 'D')\n",
    "print(T3)\n",
    "\n",
    "'''\n",
    "By the way,\n",
    "freq 选项可以为:\n",
    "\n",
    "s ---- 秒\n",
    "min -- 分钟\n",
    "H ---- 小时\n",
    "D ---- 天\n",
    "w ---- 星期\n",
    "m ---- 月\n",
    "'''\n",
    "T4 = pd.date_range(start = '2018-04-02', periods = 7, freq = '1H25min40s')\n",
    "print(T4)\n"
   ]
  },
  {
   "cell_type": "markdown",
   "metadata": {},
   "source": [
    "<center> <font color = #82318E size = 3 face = \"微软雅黑\" > 转化为 时间戳 </font> </center>"
   ]
  },
  {
   "cell_type": "code",
   "execution_count": 127,
   "metadata": {},
   "outputs": [
    {
     "name": "stdout",
     "output_type": "stream",
     "text": [
      "NaT\n",
      "\n",
      "<class 'pandas._libs.tslib.Timestamp'>\n",
      "2018-01-02 00:12:35\n"
     ]
    }
   ],
   "source": [
    "'''\n",
    "第一个位置输入の数据\n",
    "还可以是:\n",
    "list Series DataFrame\n",
    "\n",
    "errors 其选项中:\n",
    "'raise'  报错, 并返回 'Unknown string format'\n",
    "'coerce' 返回 NaT\n",
    "'ignore' 忽略\n",
    "\n",
    "dayfirst, True 表示输入の数据是日期优先\n",
    "yearfirst, True 表示输入の数据是年份优先, 如'18/1/2'\n",
    "\n",
    "box, True 表示返回时间索引类型(DatatimeIndex), \n",
    "     False 表示返回多维数组(ndarray)\n",
    "'''\n",
    "t5 = pd.to_datetime('29/2/18', errors = 'coerce')\n",
    "print(t5)\n",
    "print()\n",
    "\n",
    "t6 = pd.to_datetime('2/1/18 00:12:35', dayfirst = True, yearfirst = False, box = True)\n",
    "print(type(t6))\n",
    "print(t6)"
   ]
  },
  {
   "cell_type": "markdown",
   "metadata": {},
   "source": [
    "<center> <font color = #82318E size = 3 face = \"微软雅黑\" > 时间序列 检索 </font> </center>"
   ]
  },
  {
   "cell_type": "code",
   "execution_count": 3,
   "metadata": {},
   "outputs": [
    {
     "name": "stdout",
     "output_type": "stream",
     "text": [
      "                     Var0  Var1  Var2  Var3  Var4\n",
      "2018-04-02 00:00:00     9     7     3     8     7\n",
      "2018-04-02 01:00:00     3     2     8     1     9\n",
      "2018-04-02 02:00:00     4     6     2     7     3\n",
      "2018-04-02 03:00:00     8     2     2     4     5\n",
      "2018-04-02 04:00:00     8     4     7     7     3\n",
      "2018-04-02 05:00:00     2     3     4     7     7\n",
      "2018-04-02 06:00:00     4     7     8     1     7\n",
      "2018-04-02 07:00:00     8     9     2     6     5\n",
      "2018-04-02 08:00:00     7     1     1     7     6\n",
      "2018-04-02 09:00:00     3     4     7     6     6\n",
      "2018-04-02 10:00:00     8     7     4     4     5\n",
      "2018-04-02 11:00:00     5     7     7     8     8\n",
      "2018-04-02 12:00:00     6     5     9     1     1\n",
      "2018-04-02 13:00:00     6     2     3     9     1\n",
      "2018-04-02 14:00:00     3     6     1     1     1\n"
     ]
    }
   ],
   "source": [
    "T7 = pd.DataFrame(np.random.choice(np.arange(1,10,1), (15, 5), replace = True),\n",
    "                  columns = list('Var{}'.format(x) for x in np.arange(5)),\n",
    "                  index = pd.date_range(start = '2018-04-02', periods = 15, freq = 'H'))\n",
    "print(T7)"
   ]
  },
  {
   "cell_type": "code",
   "execution_count": 4,
   "metadata": {},
   "outputs": [
    {
     "name": "stdout",
     "output_type": "stream",
     "text": [
      "                     Var0  Var1  Var2  Var3  Var4\n",
      "2018-04-02 02:00:00     4     6     2     7     3\n",
      "2018-04-02 03:00:00     8     2     2     4     5\n",
      "2018-04-02 04:00:00     8     4     7     7     3\n",
      "2018-04-02 05:00:00     2     3     4     7     7\n",
      "2018-04-02 06:00:00     4     7     8     1     7\n"
     ]
    }
   ],
   "source": [
    "print(T7.loc['2018-04-02 02:00:00': '2018-04-02 6:20:00', ::])"
   ]
  },
  {
   "cell_type": "markdown",
   "metadata": {},
   "source": [
    "<center> <font color = #82318E size = 3 face = \"微软雅黑\" > 改变时间 </font> </center>"
   ]
  },
  {
   "cell_type": "code",
   "execution_count": 5,
   "metadata": {},
   "outputs": [
    {
     "name": "stdout",
     "output_type": "stream",
     "text": [
      "T8 : 2021-02-08 21:50:00\n",
      "\n",
      "T9 : 2021-02-08 03:50:00\n"
     ]
    }
   ],
   "source": [
    "T8 = pd.Timestamp('2018-04-06 18:50:00')\n",
    "T8 = T8 + pd.tseries.offsets.DateOffset(years = 2, months = 10, days = 2, hours = 3)\n",
    "\n",
    "print('T8 : {}'.format(T8))\n",
    "print()\n",
    "\n",
    "'''\n",
    "注意, \n",
    "上面の函数, 传入参数时, \n",
    "都有一个 's'\n",
    "\n",
    "否则, 会出现\n",
    "下面这种情况\n",
    "'''\n",
    "T9 = pd.Timestamp('2018-04-06 18:50:00')\n",
    "T9 = T9 + pd.tseries.offsets.DateOffset(years = 2, months = 10, days = 2, hour = 3)\n",
    "\n",
    "print('T9 : {}'.format(T9))"
   ]
  },
  {
   "cell_type": "code",
   "execution_count": 6,
   "metadata": {
    "scrolled": false
   },
   "outputs": [
    {
     "name": "stdout",
     "output_type": "stream",
     "text": [
      "                     Var0  Var2  Var3\n",
      "2018-04-02 00:00:00     9     3     8\n",
      "2018-04-02 01:00:00     3     8     1\n",
      "2018-04-02 02:00:00     4     2     7\n",
      "2018-04-02 03:00:00     8     2     4\n",
      "2018-04-02 04:00:00     8     7     7\n",
      "--------------------------------------\n",
      "\n",
      "                     Var0  Var2  Var3\n",
      "2018-04-02 00:00:00   NaN   NaN   NaN\n",
      "2018-04-02 01:00:00   NaN   NaN   NaN\n",
      "2018-04-02 02:00:00   9.0   3.0   8.0\n",
      "2018-04-02 03:00:00   3.0   8.0   1.0\n",
      "2018-04-02 04:00:00   4.0   2.0   7.0\n",
      "--------------------------------------\n",
      "\n",
      "                     Var0  Var2  Var3\n",
      "2018-04-02 00:00:00   4.0   2.0   7.0\n",
      "2018-04-02 01:00:00   8.0   2.0   4.0\n",
      "2018-04-02 02:00:00   8.0   7.0   7.0\n",
      "2018-04-02 03:00:00   NaN   NaN   NaN\n",
      "2018-04-02 04:00:00   NaN   NaN   NaN\n",
      "--------------------------------------\n",
      "\n",
      "                     Var0  Var2  Var3\n",
      "2018-04-02 02:00:00     9     3     8\n",
      "2018-04-02 03:00:00     3     8     1\n",
      "2018-04-02 04:00:00     4     2     7\n",
      "2018-04-02 05:00:00     8     2     4\n",
      "2018-04-02 06:00:00     8     7     7\n",
      "--------------------------------------\n",
      "\n",
      "                     Var0  Var2  Var3\n",
      "2018-04-01 22:00:00     9     3     8\n",
      "2018-04-01 23:00:00     3     8     1\n",
      "2018-04-02 00:00:00     4     2     7\n",
      "2018-04-02 01:00:00     8     2     4\n",
      "2018-04-02 02:00:00     8     7     7\n",
      "--------------------------------------\n",
      "\n",
      "                     Var0  Var2  Var3\n",
      "2018-04-02 00:45:00     9     3     8\n",
      "2018-04-02 01:45:00     3     8     1\n",
      "2018-04-02 02:45:00     4     2     7\n",
      "2018-04-02 03:45:00     8     2     4\n",
      "2018-04-02 04:45:00     8     7     7\n",
      "--------------------------------------\n",
      "\n"
     ]
    }
   ],
   "source": [
    "T10 = T7.iloc[0 : 5 : 1, [0, 2, 3]]\n",
    "print(T10, end = '\\n' + '-' * 38 + '\\n' * 2)\n",
    "\n",
    "'''\n",
    "移动数据\n",
    "'''\n",
    "print(T10.shift(2), end = '\\n' + '-' * 38 + '\\n' * 2)\n",
    "\n",
    "print(T10.shift(-2), end = '\\n' + '-' * 38 + '\\n' * 2)\n",
    "\n",
    "\n",
    "'''\n",
    "移动时间轴\n",
    "'''\n",
    "print(T10.tshift(2), end = '\\n' + '-' * 38 + '\\n' * 2)\n",
    "\n",
    "print(T10.tshift(-2), end = '\\n' + '-' * 38 + '\\n' * 2)\n",
    "\n",
    "print(T10.tshift(3, freq = '15min'), end = '\\n' + '-' * 38 + '\\n' * 2)\n",
    "\n"
   ]
  },
  {
   "cell_type": "markdown",
   "metadata": {},
   "source": [
    "<center> <font color = #82318E size = 3 face = \"微软雅黑\" > 重新采样 </font> </center>"
   ]
  },
  {
   "cell_type": "code",
   "execution_count": 7,
   "metadata": {
    "scrolled": false
   },
   "outputs": [
    {
     "name": "stdout",
     "output_type": "stream",
     "text": [
      "Help on function resample in module pandas.core.generic:\n",
      "\n",
      "resample(self, rule, how=None, axis=0, fill_method=None, closed=None, label=None, convention='start', kind=None, loffset=None, limit=None, base=0, on=None, level=None)\n",
      "    Convenience method for frequency conversion and resampling of time\n",
      "    series.  Object must have a datetime-like index (DatetimeIndex,\n",
      "    PeriodIndex, or TimedeltaIndex), or pass datetime-like values\n",
      "    to the on or level keyword.\n",
      "    \n",
      "    Parameters\n",
      "    ----------\n",
      "    rule : string\n",
      "        the offset string or object representing target conversion\n",
      "    axis : int, optional, default 0\n",
      "    closed : {'right', 'left'}\n",
      "        Which side of bin interval is closed. The default is 'left'\n",
      "        for all frequency offsets except for 'M', 'A', 'Q', 'BM',\n",
      "        'BA', 'BQ', and 'W' which all have a default of 'right'.\n",
      "    label : {'right', 'left'}\n",
      "        Which bin edge label to label bucket with. The default is 'left'\n",
      "        for all frequency offsets except for 'M', 'A', 'Q', 'BM',\n",
      "        'BA', 'BQ', and 'W' which all have a default of 'right'.\n",
      "    convention : {'start', 'end', 's', 'e'}\n",
      "        For PeriodIndex only, controls whether to use the start or end of\n",
      "        `rule`\n",
      "    loffset : timedelta\n",
      "        Adjust the resampled time labels\n",
      "    base : int, default 0\n",
      "        For frequencies that evenly subdivide 1 day, the \"origin\" of the\n",
      "        aggregated intervals. For example, for '5min' frequency, base could\n",
      "        range from 0 through 4. Defaults to 0\n",
      "    on : string, optional\n",
      "        For a DataFrame, column to use instead of index for resampling.\n",
      "        Column must be datetime-like.\n",
      "    \n",
      "        .. versionadded:: 0.19.0\n",
      "    \n",
      "    level : string or int, optional\n",
      "        For a MultiIndex, level (name or number) to use for\n",
      "        resampling.  Level must be datetime-like.\n",
      "    \n",
      "        .. versionadded:: 0.19.0\n",
      "    \n",
      "    Notes\n",
      "    -----\n",
      "    To learn more about the offset strings, please see `this link\n",
      "    <http://pandas.pydata.org/pandas-docs/stable/timeseries.html#offset-aliases>`__.\n",
      "    \n",
      "    Examples\n",
      "    --------\n",
      "    \n",
      "    Start by creating a series with 9 one minute timestamps.\n",
      "    \n",
      "    >>> index = pd.date_range('1/1/2000', periods=9, freq='T')\n",
      "    >>> series = pd.Series(range(9), index=index)\n",
      "    >>> series\n",
      "    2000-01-01 00:00:00    0\n",
      "    2000-01-01 00:01:00    1\n",
      "    2000-01-01 00:02:00    2\n",
      "    2000-01-01 00:03:00    3\n",
      "    2000-01-01 00:04:00    4\n",
      "    2000-01-01 00:05:00    5\n",
      "    2000-01-01 00:06:00    6\n",
      "    2000-01-01 00:07:00    7\n",
      "    2000-01-01 00:08:00    8\n",
      "    Freq: T, dtype: int64\n",
      "    \n",
      "    Downsample the series into 3 minute bins and sum the values\n",
      "    of the timestamps falling into a bin.\n",
      "    \n",
      "    >>> series.resample('3T').sum()\n",
      "    2000-01-01 00:00:00     3\n",
      "    2000-01-01 00:03:00    12\n",
      "    2000-01-01 00:06:00    21\n",
      "    Freq: 3T, dtype: int64\n",
      "    \n",
      "    Downsample the series into 3 minute bins as above, but label each\n",
      "    bin using the right edge instead of the left. Please note that the\n",
      "    value in the bucket used as the label is not included in the bucket,\n",
      "    which it labels. For example, in the original series the\n",
      "    bucket ``2000-01-01 00:03:00`` contains the value 3, but the summed\n",
      "    value in the resampled bucket with the label ``2000-01-01 00:03:00``\n",
      "    does not include 3 (if it did, the summed value would be 6, not 3).\n",
      "    To include this value close the right side of the bin interval as\n",
      "    illustrated in the example below this one.\n",
      "    \n",
      "    >>> series.resample('3T', label='right').sum()\n",
      "    2000-01-01 00:03:00     3\n",
      "    2000-01-01 00:06:00    12\n",
      "    2000-01-01 00:09:00    21\n",
      "    Freq: 3T, dtype: int64\n",
      "    \n",
      "    Downsample the series into 3 minute bins as above, but close the right\n",
      "    side of the bin interval.\n",
      "    \n",
      "    >>> series.resample('3T', label='right', closed='right').sum()\n",
      "    2000-01-01 00:00:00     0\n",
      "    2000-01-01 00:03:00     6\n",
      "    2000-01-01 00:06:00    15\n",
      "    2000-01-01 00:09:00    15\n",
      "    Freq: 3T, dtype: int64\n",
      "    \n",
      "    Upsample the series into 30 second bins.\n",
      "    \n",
      "    >>> series.resample('30S').asfreq()[0:5] #select first 5 rows\n",
      "    2000-01-01 00:00:00   0.0\n",
      "    2000-01-01 00:00:30   NaN\n",
      "    2000-01-01 00:01:00   1.0\n",
      "    2000-01-01 00:01:30   NaN\n",
      "    2000-01-01 00:02:00   2.0\n",
      "    Freq: 30S, dtype: float64\n",
      "    \n",
      "    Upsample the series into 30 second bins and fill the ``NaN``\n",
      "    values using the ``pad`` method.\n",
      "    \n",
      "    >>> series.resample('30S').pad()[0:5]\n",
      "    2000-01-01 00:00:00    0\n",
      "    2000-01-01 00:00:30    0\n",
      "    2000-01-01 00:01:00    1\n",
      "    2000-01-01 00:01:30    1\n",
      "    2000-01-01 00:02:00    2\n",
      "    Freq: 30S, dtype: int64\n",
      "    \n",
      "    Upsample the series into 30 second bins and fill the\n",
      "    ``NaN`` values using the ``bfill`` method.\n",
      "    \n",
      "    >>> series.resample('30S').bfill()[0:5]\n",
      "    2000-01-01 00:00:00    0\n",
      "    2000-01-01 00:00:30    1\n",
      "    2000-01-01 00:01:00    1\n",
      "    2000-01-01 00:01:30    2\n",
      "    2000-01-01 00:02:00    2\n",
      "    Freq: 30S, dtype: int64\n",
      "    \n",
      "    Pass a custom function via ``apply``\n",
      "    \n",
      "    >>> def custom_resampler(array_like):\n",
      "    ...     return np.sum(array_like)+5\n",
      "    \n",
      "    >>> series.resample('3T').apply(custom_resampler)\n",
      "    2000-01-01 00:00:00     8\n",
      "    2000-01-01 00:03:00    17\n",
      "    2000-01-01 00:06:00    26\n",
      "    Freq: 3T, dtype: int64\n",
      "    \n",
      "    For a Series with a PeriodIndex, the keyword `convention` can be\n",
      "    used to control whether to use the start or end of `rule`.\n",
      "    \n",
      "    >>> s = pd.Series([1, 2], index=pd.period_range('2012-01-01',\n",
      "                                                    freq='A',\n",
      "                                                    periods=2))\n",
      "    >>> s\n",
      "    2012    1\n",
      "    2013    2\n",
      "    Freq: A-DEC, dtype: int64\n",
      "    \n",
      "    Resample by month using 'start' `convention`. Values are assigned to\n",
      "    the first month of the period.\n",
      "    \n",
      "    >>> s.resample('M', convention='start').asfreq().head()\n",
      "    2012-01    1.0\n",
      "    2012-02    NaN\n",
      "    2012-03    NaN\n",
      "    2012-04    NaN\n",
      "    2012-05    NaN\n",
      "    Freq: M, dtype: float64\n",
      "    \n",
      "    Resample by month using 'end' `convention`. Values are assigned to\n",
      "    the last month of the period.\n",
      "    \n",
      "    >>> s.resample('M', convention='end').asfreq()\n",
      "    2012-12    1.0\n",
      "    2013-01    NaN\n",
      "    2013-02    NaN\n",
      "    2013-03    NaN\n",
      "    2013-04    NaN\n",
      "    2013-05    NaN\n",
      "    2013-06    NaN\n",
      "    2013-07    NaN\n",
      "    2013-08    NaN\n",
      "    2013-09    NaN\n",
      "    2013-10    NaN\n",
      "    2013-11    NaN\n",
      "    2013-12    2.0\n",
      "    Freq: M, dtype: float64\n",
      "    \n",
      "    For DataFrame objects, the keyword ``on`` can be used to specify the\n",
      "    column instead of the index for resampling.\n",
      "    \n",
      "    >>> df = pd.DataFrame(data=9*[range(4)], columns=['a', 'b', 'c', 'd'])\n",
      "    >>> df['time'] = pd.date_range('1/1/2000', periods=9, freq='T')\n",
      "    >>> df.resample('3T', on='time').sum()\n",
      "                         a  b  c  d\n",
      "    time\n",
      "    2000-01-01 00:00:00  0  3  6  9\n",
      "    2000-01-01 00:03:00  0  3  6  9\n",
      "    2000-01-01 00:06:00  0  3  6  9\n",
      "    \n",
      "    For a DataFrame with MultiIndex, the keyword ``level`` can be used to\n",
      "    specify on level the resampling needs to take place.\n",
      "    \n",
      "    >>> time = pd.date_range('1/1/2000', periods=5, freq='T')\n",
      "    >>> df2 = pd.DataFrame(data=10*[range(4)],\n",
      "                           columns=['a', 'b', 'c', 'd'],\n",
      "                           index=pd.MultiIndex.from_product([time, [1, 2]])\n",
      "                           )\n",
      "    >>> df2.resample('3T', level=0).sum()\n",
      "                         a  b   c   d\n",
      "    2000-01-01 00:00:00  0  6  12  18\n",
      "    2000-01-01 00:03:00  0  4   8  12\n",
      "\n"
     ]
    }
   ],
   "source": [
    "'''\n",
    "在获得 type() 之后,\n",
    "我可以 help 一下, \n",
    "看看都有哪些参数传入\n",
    "'''\n",
    "help(pd.core.frame.DataFrame.resample)"
   ]
  },
  {
   "cell_type": "code",
   "execution_count": 8,
   "metadata": {
    "scrolled": true
   },
   "outputs": [
    {
     "name": "stdout",
     "output_type": "stream",
     "text": [
      "<class 'pandas.core.frame.DataFrame'>\n",
      "                     Var0  Var1  Var2  Var3  Var4\n",
      "2018-04-02 00:00:00     9     7     3     8     7\n",
      "2018-04-02 01:00:00     3     2     8     1     9\n",
      "2018-04-02 02:00:00     4     6     2     7     3\n",
      "2018-04-02 03:00:00     8     2     2     4     5\n",
      "2018-04-02 04:00:00     8     4     7     7     3\n",
      "2018-04-02 05:00:00     2     3     4     7     7\n",
      "2018-04-02 06:00:00     4     7     8     1     7\n",
      "2018-04-02 07:00:00     8     9     2     6     5\n",
      "2018-04-02 08:00:00     7     1     1     7     6\n",
      "2018-04-02 09:00:00     3     4     7     6     6\n",
      "2018-04-02 10:00:00     8     7     4     4     5\n",
      "2018-04-02 11:00:00     5     7     7     8     8\n",
      "2018-04-02 12:00:00     6     5     9     1     1\n",
      "2018-04-02 13:00:00     6     2     3     9     1\n",
      "2018-04-02 14:00:00     3     6     1     1     1\n",
      "--------------------------------------------------\n",
      "\n"
     ]
    }
   ],
   "source": [
    "print(type(T7))\n",
    "print(T7, end = '\\n' + '-' * 50 + '\\n' * 2)"
   ]
  },
  {
   "cell_type": "code",
   "execution_count": 9,
   "metadata": {
    "scrolled": true
   },
   "outputs": [
    {
     "name": "stdout",
     "output_type": "stream",
     "text": [
      "                     Var0  Var1  Var2  Var3  Var4\n",
      "2018-04-02 05:00:00    32    21    22    27    27\n",
      "2018-04-02 10:00:00    24    24    22    27    31\n",
      "2018-04-02 15:00:00    28    27    24    23    16\n",
      "\n",
      "                     Var0  Var1  Var2  Var3  Var4\n",
      "2018-04-02 00:00:00     9     7     3     8     7\n",
      "2018-04-02 05:00:00    25    17    23    26    27\n",
      "2018-04-02 10:00:00    30    28    22    24    29\n",
      "2018-04-02 15:00:00    20    20    20    19    11\n"
     ]
    }
   ],
   "source": [
    "'''\n",
    "label 选项, \n",
    "'right'表示使用每次区间右侧的值\n",
    "(下一区间の左侧端点)做为label:\n",
    "[00:00, 05:00) label 为 05:00\n",
    "[05:00, 10:00)\n",
    "[10:00, 15:00)\n",
    "\n",
    "close 选项, \n",
    "'right'左开右闭\n",
    "00:00\n",
    "(00:00, 05:00]\n",
    "(05:00, 10:00]\n",
    "(10:00, 15:00]\n",
    "\n",
    "'''\n",
    "print(T7.resample(rule = '5H', label = 'right').sum())\n",
    "print()\n",
    "\n",
    "print(T7.resample(rule = '5H', label = 'right', closed = 'right').sum())"
   ]
  },
  {
   "cell_type": "code",
   "execution_count": 10,
   "metadata": {},
   "outputs": [
    {
     "name": "stdout",
     "output_type": "stream",
     "text": [
      "                     Var0  Var1  Var2  Var3  Var4\n",
      "2018-04-02 00:00:00   9.0   7.0   3.0   8.0   7.0\n",
      "2018-04-02 00:20:00   NaN   NaN   NaN   NaN   NaN\n",
      "2018-04-02 00:40:00   3.0   2.0   8.0   1.0   9.0\n",
      "2018-04-02 01:00:00   3.0   2.0   8.0   1.0   9.0\n",
      "2018-04-02 01:20:00   NaN   NaN   NaN   NaN   NaN\n",
      "2018-04-02 01:40:00   4.0   6.0   2.0   7.0   3.0\n",
      "2018-04-02 02:00:00   4.0   6.0   2.0   7.0   3.0\n",
      "2018-04-02 02:20:00   NaN   NaN   NaN   NaN   NaN\n",
      "2018-04-02 02:40:00   8.0   2.0   2.0   4.0   5.0\n",
      "2018-04-02 03:00:00   8.0   2.0   2.0   4.0   5.0\n",
      "2018-04-02 03:20:00   NaN   NaN   NaN   NaN   NaN\n",
      "2018-04-02 03:40:00   8.0   4.0   7.0   7.0   3.0\n",
      "2018-04-02 04:00:00   8.0   4.0   7.0   7.0   3.0\n",
      "2018-04-02 04:20:00   NaN   NaN   NaN   NaN   NaN\n",
      "2018-04-02 04:40:00   2.0   3.0   4.0   7.0   7.0\n",
      "2018-04-02 05:00:00   2.0   3.0   4.0   7.0   7.0\n",
      "2018-04-02 05:20:00   NaN   NaN   NaN   NaN   NaN\n",
      "2018-04-02 05:40:00   4.0   7.0   8.0   1.0   7.0\n",
      "2018-04-02 06:00:00   4.0   7.0   8.0   1.0   7.0\n",
      "2018-04-02 06:20:00   NaN   NaN   NaN   NaN   NaN\n",
      "2018-04-02 06:40:00   8.0   9.0   2.0   6.0   5.0\n",
      "2018-04-02 07:00:00   8.0   9.0   2.0   6.0   5.0\n",
      "2018-04-02 07:20:00   NaN   NaN   NaN   NaN   NaN\n",
      "2018-04-02 07:40:00   7.0   1.0   1.0   7.0   6.0\n",
      "2018-04-02 08:00:00   7.0   1.0   1.0   7.0   6.0\n",
      "2018-04-02 08:20:00   NaN   NaN   NaN   NaN   NaN\n",
      "2018-04-02 08:40:00   3.0   4.0   7.0   6.0   6.0\n",
      "2018-04-02 09:00:00   3.0   4.0   7.0   6.0   6.0\n",
      "2018-04-02 09:20:00   NaN   NaN   NaN   NaN   NaN\n",
      "2018-04-02 09:40:00   8.0   7.0   4.0   4.0   5.0\n",
      "2018-04-02 10:00:00   8.0   7.0   4.0   4.0   5.0\n",
      "2018-04-02 10:20:00   NaN   NaN   NaN   NaN   NaN\n",
      "2018-04-02 10:40:00   5.0   7.0   7.0   8.0   8.0\n",
      "2018-04-02 11:00:00   5.0   7.0   7.0   8.0   8.0\n",
      "2018-04-02 11:20:00   NaN   NaN   NaN   NaN   NaN\n",
      "2018-04-02 11:40:00   6.0   5.0   9.0   1.0   1.0\n",
      "2018-04-02 12:00:00   6.0   5.0   9.0   1.0   1.0\n",
      "2018-04-02 12:20:00   NaN   NaN   NaN   NaN   NaN\n",
      "2018-04-02 12:40:00   6.0   2.0   3.0   9.0   1.0\n",
      "2018-04-02 13:00:00   6.0   2.0   3.0   9.0   1.0\n",
      "2018-04-02 13:20:00   NaN   NaN   NaN   NaN   NaN\n",
      "2018-04-02 13:40:00   3.0   6.0   1.0   1.0   1.0\n",
      "2018-04-02 14:00:00   3.0   6.0   1.0   1.0   1.0\n"
     ]
    }
   ],
   "source": [
    "'''\n",
    ".bfill() 用后值填补, \n",
    "最多向后寻找限制'1'位\n",
    "btw, .ffill() 是用前值填补\n",
    "'''\n",
    "print(T7.resample(rule = '20min').bfill(limit = 1))"
   ]
  },
  {
   "cell_type": "code",
   "execution_count": 22,
   "metadata": {},
   "outputs": [
    {
     "name": "stdout",
     "output_type": "stream",
     "text": [
      "                     Var0  Var1  Var2  Var3  Var4\n",
      "2018-04-02 02:00:00   6.0   4.5   5.5   4.5   8.0\n",
      "2018-04-02 04:00:00   6.0   4.0   2.0   5.5   4.0\n",
      "2018-04-02 06:00:00   5.0   3.5   5.5   7.0   5.0\n",
      "2018-04-02 08:00:00   6.0   8.0   5.0   3.5   6.0\n",
      "2018-04-02 10:00:00   5.0   2.5   4.0   6.5   6.0\n",
      "2018-04-02 12:00:00   6.5   7.0   5.5   6.0   6.5\n",
      "2018-04-02 14:00:00   6.0   3.5   6.0   5.0   1.0\n",
      "2018-04-02 16:00:00   3.0   6.0   1.0   1.0   1.0\n"
     ]
    }
   ],
   "source": [
    "'''\n",
    "可按如下方式,\n",
    "自己定义函数处理,\n",
    "\n",
    "需要说明的是,\n",
    "myresample() 收到の参数\n",
    "是 pandas.Series 类型の\n",
    "'''\n",
    "def myresample(a):\n",
    "    return np.sum(a)/len(a)\n",
    "\n",
    "print(T7.resample(rule = '2H', label = 'right').apply(myresample))    "
   ]
  },
  {
   "cell_type": "markdown",
   "metadata": {},
   "source": [
    "<center> <font color = #82318E size = 4 face = \"微软雅黑\" > 感觉 pandas 这个模块, 超级有用 </font> </center>\n",
    "<center> <font color = #82318E size = 4 face = \"微软雅黑\" > 数据预处理  一流の, 妥妥の!  </font> </center>"
   ]
  }
 ],
 "metadata": {
  "kernelspec": {
   "display_name": "Python 3",
   "language": "python",
   "name": "python3"
  },
  "language_info": {
   "codemirror_mode": {
    "name": "ipython",
    "version": 3
   },
   "file_extension": ".py",
   "mimetype": "text/x-python",
   "name": "python",
   "nbconvert_exporter": "python",
   "pygments_lexer": "ipython3",
   "version": "3.6.1"
  }
 },
 "nbformat": 4,
 "nbformat_minor": 2
}
