{
 "cells": [
  {
   "cell_type": "markdown",
   "metadata": {},
   "source": [
    "<center> <font color = #82318E size = 5 face = \"微软雅黑\" > numpy の 测试 </font> </center>"
   ]
  },
  {
   "cell_type": "markdown",
   "metadata": {},
   "source": [
    "<center> <font color = #82318E size = 4 face = \"微软雅黑\" > 1. 常用操作 </font> </center>"
   ]
  },
  {
   "cell_type": "code",
   "execution_count": 1,
   "metadata": {
    "collapsed": true
   },
   "outputs": [],
   "source": [
    "import numpy as np"
   ]
  },
  {
   "cell_type": "markdown",
   "metadata": {},
   "source": [
    "<center> <font color = #82318E size = 3 face = \"微软雅黑\" > 数据类型 </font> </center>"
   ]
  },
  {
   "cell_type": "code",
   "execution_count": 2,
   "metadata": {},
   "outputs": [
    {
     "name": "stdout",
     "output_type": "stream",
     "text": [
      "[ 1.   2.   3.5]\n",
      "float64\n",
      "[1 2 3]\n",
      "int64\n"
     ]
    }
   ],
   "source": [
    "a = np.array([1.0, 2.0, 3.5], dtype = np.float)\n",
    "print(a)\n",
    "print(a.dtype)\n",
    "\n",
    "a = a.astype(np.int64)\n",
    "print(a) \n",
    "print(a.dtype)\n",
    "\n",
    "#单行注释可以用 #, 多行注释可以用“”“ ”“” 括起来，或者\n",
    "#int,int32 : -2e9 ~ 2e9\n",
    "#int64 : -9e18 ~ 9e18\n",
    "#uint,uint32 : 0 ~ 4e9\n",
    "#uint64 : 0 ~ 2e19\n",
    "#float32 : 2^8.2^-23\n",
    "#float,float64 : 2^11.2^-52 "
   ]
  },
  {
   "cell_type": "code",
   "execution_count": 39,
   "metadata": {
    "scrolled": false
   },
   "outputs": [
    {
     "name": "stdout",
     "output_type": "stream",
     "text": [
      "[[ 2.5  1.   4. ]\n",
      " [ 3.5  8.   7. ]]\n",
      "(2, 3)\n",
      "<class 'numpy.ndarray'>\n",
      "float64\n"
     ]
    }
   ],
   "source": [
    "b = np.array([[2.5, 1, 4], [3.5, 8, 7]])\n",
    "print(b)\n",
    "print(b.shape)\n",
    "print(type(b))\n",
    "print(b.dtype)"
   ]
  },
  {
   "cell_type": "markdown",
   "metadata": {},
   "source": [
    "<center> <font color = #82318E size = 3 face = \"微软雅黑\" > arange 函数 </font> </center>"
   ]
  },
  {
   "cell_type": "code",
   "execution_count": 40,
   "metadata": {},
   "outputs": [
    {
     "data": {
      "text/plain": [
       "array([ 3. ,  3.5,  4. ,  4.5,  5. ,  5.5,  6. ,  6.5])"
      ]
     },
     "execution_count": 40,
     "metadata": {},
     "output_type": "execute_result"
    }
   ],
   "source": [
    "# arange函数, 左闭右开\n",
    "np.arange(start = 3, stop = 7, step = 0.5, dtype = np.float64)"
   ]
  },
  {
   "cell_type": "code",
   "execution_count": 41,
   "metadata": {},
   "outputs": [
    {
     "data": {
      "text/plain": [
       "array([0, 1, 2, 3, 4, 5])"
      ]
     },
     "execution_count": 41,
     "metadata": {},
     "output_type": "execute_result"
    }
   ],
   "source": [
    "np.arange(0, 6)"
   ]
  },
  {
   "cell_type": "code",
   "execution_count": 42,
   "metadata": {},
   "outputs": [
    {
     "data": {
      "text/plain": [
       "array([0, 1, 2, 3, 4, 5])"
      ]
     },
     "execution_count": 42,
     "metadata": {},
     "output_type": "execute_result"
    }
   ],
   "source": [
    "# 可以只输入一个参数，默认从0开始，默认间隔为1\n",
    "np.arange(6)"
   ]
  },
  {
   "cell_type": "markdown",
   "metadata": {},
   "source": [
    "<center> <font color = #82318E size = 3 face = \"微软雅黑\" > linspace 函数 </font> </center>"
   ]
  },
  {
   "cell_type": "code",
   "execution_count": 43,
   "metadata": {
    "scrolled": false
   },
   "outputs": [
    {
     "name": "stdout",
     "output_type": "stream",
     "text": [
      "[ 3.  4.  5.  6.  7.]\n"
     ]
    }
   ],
   "source": [
    "# linspace函数, 闭区间，但可以指定右区间端点是否取到\n",
    "print(np.linspace(3, 7, num = 5))"
   ]
  },
  {
   "cell_type": "code",
   "execution_count": 44,
   "metadata": {},
   "outputs": [
    {
     "data": {
      "text/plain": [
       "array([ 3.,  4.,  5.,  6.])"
      ]
     },
     "execution_count": 44,
     "metadata": {},
     "output_type": "execute_result"
    }
   ],
   "source": [
    "np.linspace(3, 7, num = 4, endpoint = False)"
   ]
  },
  {
   "cell_type": "markdown",
   "metadata": {},
   "source": [
    "<center> <font color = #82318E size = 3 face = \"微软雅黑\" > ones zeros eye fromfunction 函数 </font> </center>"
   ]
  },
  {
   "cell_type": "code",
   "execution_count": 45,
   "metadata": {},
   "outputs": [
    {
     "name": "stdout",
     "output_type": "stream",
     "text": [
      "(3, 2)\n",
      "1.0\n",
      "(1, 2, 3)\n",
      "1.0\n"
     ]
    }
   ],
   "source": [
    "c = np.ones((3, 2), dtype = np.float64)\n",
    "print(c.shape)\n",
    "'''\n",
    "数组与矩阵的下标，从0开始\n",
    "'''\n",
    "print(c[0][1])\n",
    "\n",
    "c = c.reshape(1, 2, 3)\n",
    "print(c.shape)\n",
    "print(c[0][0][0])\n"
   ]
  },
  {
   "cell_type": "code",
   "execution_count": 46,
   "metadata": {
    "scrolled": true
   },
   "outputs": [
    {
     "name": "stdout",
     "output_type": "stream",
     "text": [
      "[[[ 0.  0.]\n",
      "  [ 0.  0.]]\n",
      "\n",
      " [[ 0.  0.]\n",
      "  [ 0.  0.]]\n",
      "\n",
      " [[ 0.  0.]\n",
      "  [ 0.  0.]]]\n"
     ]
    },
    {
     "data": {
      "text/plain": [
       "array([[[0, 0],\n",
       "        [0, 0]],\n",
       "\n",
       "       [[0, 0],\n",
       "        [0, 0]],\n",
       "\n",
       "       [[0, 0],\n",
       "        [0, 0]]])"
      ]
     },
     "execution_count": 46,
     "metadata": {},
     "output_type": "execute_result"
    }
   ],
   "source": [
    "print(np.zeros((3, 2, 2)))\n",
    "\"\"\"\n",
    "-----------                --                --                -------3个2*2矩阵\n",
    "\"\"\"\n",
    "np.array( [[[0, 0], [0, 0]], [[0, 0], [0, 0]], [[0, 0], [0, 0]]] )"
   ]
  },
  {
   "cell_type": "code",
   "execution_count": 47,
   "metadata": {},
   "outputs": [
    {
     "data": {
      "text/plain": [
       "array([[0, 0, 0, 0, 0, 0],\n",
       "       [0, 0, 0, 0, 0, 0],\n",
       "       [1, 0, 0, 0, 0, 0],\n",
       "       [0, 1, 0, 0, 0, 0],\n",
       "       [0, 0, 1, 0, 0, 0]])"
      ]
     },
     "execution_count": 47,
     "metadata": {},
     "output_type": "execute_result"
    }
   ],
   "source": [
    "np.eye(5, 6, k = -2, dtype = np.int)"
   ]
  },
  {
   "cell_type": "code",
   "execution_count": 48,
   "metadata": {},
   "outputs": [
    {
     "data": {
      "text/plain": [
       "array([[0, 1, 2, 3],\n",
       "       [1, 2, 3, 4],\n",
       "       [2, 3, 4, 5],\n",
       "       [3, 4, 5, 6],\n",
       "       [4, 5, 6, 7]])"
      ]
     },
     "execution_count": 48,
     "metadata": {},
     "output_type": "execute_result"
    }
   ],
   "source": [
    "np.fromfunction(lambda a, b: a + b, (5, 4), dtype = np.int)"
   ]
  },
  {
   "cell_type": "markdown",
   "metadata": {},
   "source": [
    "<center> <font color = #82318E size = 3 face = \"微软雅黑\" > ndarray 操作 </font> </center>"
   ]
  },
  {
   "cell_type": "code",
   "execution_count": 49,
   "metadata": {
    "scrolled": true
   },
   "outputs": [
    {
     "name": "stdout",
     "output_type": "stream",
     "text": [
      "[[1 2 3]\n",
      " [4 5 6]]\n"
     ]
    }
   ],
   "source": [
    "d = np.array([[1, 2, 3], [4, 5, 6]])\n",
    "print(d)"
   ]
  },
  {
   "cell_type": "code",
   "execution_count": 50,
   "metadata": {},
   "outputs": [
    {
     "name": "stdout",
     "output_type": "stream",
     "text": [
      "[[1 4]\n",
      " [2 5]\n",
      " [3 6]]\n"
     ]
    }
   ],
   "source": [
    "d = d.T\n",
    "print(d)"
   ]
  },
  {
   "cell_type": "code",
   "execution_count": 51,
   "metadata": {},
   "outputs": [
    {
     "name": "stdout",
     "output_type": "stream",
     "text": [
      "[[1 2 3]\n",
      " [4 5 6]]\n"
     ]
    }
   ],
   "source": [
    "d = d.transpose()\n",
    "print(d)"
   ]
  },
  {
   "cell_type": "code",
   "execution_count": 52,
   "metadata": {},
   "outputs": [
    {
     "name": "stdout",
     "output_type": "stream",
     "text": [
      "int32\n",
      "(2, 3)\n",
      "2\n",
      "6\n",
      "24\n",
      " \n",
      "4\n",
      "4\n",
      "8\n"
     ]
    }
   ],
   "source": [
    "d = np.array([[1, 2, 3], [4, 5, 6]], dtype = np.int32)\n",
    "\n",
    "print(d[0][0].dtype)\n",
    "print(d.shape)\n",
    "\n",
    "# 二维矩阵\n",
    "print(d.ndim)\n",
    "\n",
    "# 一共有 2*3 = 6 个数\n",
    "print(d.size)\n",
    "\n",
    "# 4字节，共6个数，所以一共24字节\n",
    "print(d.nbytes)\n",
    "print(' ')\n",
    "\n",
    "# int32型一个占用4字节（32位, 8bit = 1Byte, 故4字节）\n",
    "print(d.itemsize)\n",
    "\n",
    "d.astype(np.float64)\n",
    "\n",
    "print(d.itemsize)\n",
    "\n",
    "# 直接 .astype 并不行, 要重新赋值才行\n",
    "d = d.astype(np.float64)\n",
    "print(d.itemsize)"
   ]
  },
  {
   "cell_type": "markdown",
   "metadata": {},
   "source": [
    "<center> <font color = #82318E size = 3 face = \"微软雅黑\" > 复数操作 </font> </center>"
   ]
  },
  {
   "cell_type": "code",
   "execution_count": 53,
   "metadata": {
    "scrolled": true
   },
   "outputs": [
    {
     "name": "stdout",
     "output_type": "stream",
     "text": [
      "[[ 2.  3.]\n",
      " [ 0.  4.]]\n",
      "[[ 3.  8.]\n",
      " [ 1.  0.]]\n"
     ]
    }
   ],
   "source": [
    "e = np.array([[2+3j, 3+8j], [1j, 4]], dtype = np.complex)\n",
    "\"\"\"\n",
    "Python中虚数单位是j, 而非i\n",
    "Python中j不行, 要写1j\n",
    "\"\"\"\n",
    "\n",
    "print(e.real)\n",
    "print(e.imag)"
   ]
  },
  {
   "cell_type": "markdown",
   "metadata": {},
   "source": [
    "<center> <font color = #82318E size = 3 face = \"微软雅黑\" > reshape函数 </font> </center>"
   ]
  },
  {
   "cell_type": "code",
   "execution_count": 54,
   "metadata": {
    "scrolled": true
   },
   "outputs": [
    {
     "name": "stdout",
     "output_type": "stream",
     "text": [
      "[[0 0 0]\n",
      " [1 0 0]\n",
      " [0 1 0]\n",
      " [0 0 1]]\n",
      "[[0 0 0]\n",
      " [1 0 0]\n",
      " [0 1 0]\n",
      " [0 0 1]]\n",
      "[[0 0 0 1 0 0]\n",
      " [0 1 0 0 0 1]]\n",
      "[[0 0 0 1]\n",
      " [0 0 0 1]\n",
      " [0 0 0 1]]\n",
      "[[0 0]\n",
      " [0 1]\n",
      " [0 0]\n",
      " [0 1]\n",
      " [0 0]\n",
      " [0 1]]\n"
     ]
    }
   ],
   "source": [
    "f = np.eye(4, 3, k = -1, dtype = np.int)\n",
    "print(f)\n",
    "\n",
    "np.reshape(f, (2,6))\n",
    "print(f)\n",
    "\n",
    "\"\"\"\n",
    "！！！\n",
    "上面没有输出时没有改变形状，是因为没有覆盖赋值\n",
    "\"\"\"\n",
    "f = np.reshape(f, (2,6))\n",
    "print(f)\n",
    "\n",
    "f = f.reshape(3,4)\n",
    "print(f)\n",
    "\n",
    "# 可以由-1补齐, 根据数据量自己计算该维度大小\n",
    "f = f.reshape(6,-1)\n",
    "print(f)"
   ]
  },
  {
   "cell_type": "markdown",
   "metadata": {},
   "source": [
    "<center> <font color = #82318E size = 3 face = \"微软雅黑\" > ravel函数 </font> </center>"
   ]
  },
  {
   "cell_type": "code",
   "execution_count": 55,
   "metadata": {},
   "outputs": [
    {
     "name": "stdout",
     "output_type": "stream",
     "text": [
      "[[ 0  1  2]\n",
      " [ 3  4  5]\n",
      " [ 6  7  8]\n",
      " [ 9 10 11]]\n",
      "[ 0  1  2  3  4  5  6  7  8  9 10 11]\n",
      "[[ 0  1  2]\n",
      " [ 3  4  5]\n",
      " [ 6  7  8]\n",
      " [ 9 10 11]]\n",
      "[ 0  3  6  9  1  4  7 10  2  5  8 11]\n"
     ]
    }
   ],
   "source": [
    "g = np.arange(12).reshape(4, 3)\n",
    "print(g)\n",
    "\n",
    "# 'C'表示按行展开；'F'表示按列展开\n",
    "g = np.ravel(g, order = 'C')\n",
    "print(g)\n",
    "\n",
    "g = np.arange(12).reshape(4, 3)\n",
    "print(g)\n",
    "\n",
    "g = np.ravel(g, order = 'F')\n",
    "print(g)\n"
   ]
  },
  {
   "cell_type": "code",
   "execution_count": 56,
   "metadata": {
    "scrolled": true
   },
   "outputs": [
    {
     "name": "stdout",
     "output_type": "stream",
     "text": [
      "[[[ 0  1  2  3]\n",
      "  [ 4  5  6  7]\n",
      "  [ 8  9 10 11]]\n",
      "\n",
      " [[12 13 14 15]\n",
      "  [16 17 18 19]\n",
      "  [20 21 22 23]]]\n",
      "[0, 12, 4, 16, 8, 20, 1, 13, 5, 17, 9, 21, 2, 14, 6, 18, 10, 22, 3, 15, 7, 19, 11, 23]\n"
     ]
    }
   ],
   "source": [
    "g = np.arange(24).reshape(2, 3, 4)\n",
    "print(g)\n",
    "\n",
    "h = []\n",
    "# 现在准备先取第三维，再取第二维，再取最后一维\n",
    "for k in np.arange(g.shape[2]):\n",
    "      for j in np.arange(g.shape[1]):\n",
    "            for i in np.arange(g.shape[0]):\n",
    "                h.append(g[i][j][k])\n",
    "print(h)"
   ]
  },
  {
   "cell_type": "markdown",
   "metadata": {
    "collapsed": true
   },
   "source": [
    "<center> <font color = #82318E size = 3 face = \"微软雅黑\" > 轴移动 </font> </center>"
   ]
  },
  {
   "cell_type": "code",
   "execution_count": 57,
   "metadata": {},
   "outputs": [
    {
     "name": "stdout",
     "output_type": "stream",
     "text": [
      "(2, 3, 4)\n",
      "[[[ 0  1  2  3]\n",
      "  [ 4  5  6  7]\n",
      "  [ 8  9 10 11]]\n",
      "\n",
      " [[12 13 14 15]\n",
      "  [16 17 18 19]\n",
      "  [20 21 22 23]]]\n",
      "(3, 4, 2)\n",
      "[[[ 0 12]\n",
      "  [ 1 13]\n",
      "  [ 2 14]\n",
      "  [ 3 15]]\n",
      "\n",
      " [[ 4 16]\n",
      "  [ 5 17]\n",
      "  [ 6 18]\n",
      "  [ 7 19]]\n",
      "\n",
      " [[ 8 20]\n",
      "  [ 9 21]\n",
      "  [10 22]\n",
      "  [11 23]]]\n"
     ]
    }
   ],
   "source": [
    "i = np.arange(24).reshape(2, 3, 4)\n",
    "print(i.shape)\n",
    "print(i)\n",
    "\n",
    "# moveaxis函数是移动轴函数：初始轴'0', 目标轴'-1'指的是最后一个维度, 即'2'\n",
    "i = np.moveaxis(i, 0, -1)\n",
    "print(i.shape)\n",
    "print(i)"
   ]
  },
  {
   "cell_type": "code",
   "execution_count": 58,
   "metadata": {},
   "outputs": [
    {
     "name": "stdout",
     "output_type": "stream",
     "text": [
      "(1, 2, 3, 4)\n",
      "[[[[ 0  1  2  3]\n",
      "   [ 4  5  6  7]\n",
      "   [ 8  9 10 11]]\n",
      "\n",
      "  [[12 13 14 15]\n",
      "   [16 17 18 19]\n",
      "   [20 21 22 23]]]]\n",
      "(2, 3, 1, 4)\n",
      "[[[[ 0  1  2  3]]\n",
      "\n",
      "  [[ 4  5  6  7]]\n",
      "\n",
      "  [[ 8  9 10 11]]]\n",
      "\n",
      "\n",
      " [[[12 13 14 15]]\n",
      "\n",
      "  [[16 17 18 19]]\n",
      "\n",
      "  [[20 21 22 23]]]]\n"
     ]
    }
   ],
   "source": [
    "i = np.arange(24).reshape(1, 2, 3, 4)\n",
    "print(i.shape)\n",
    "print(i)\n",
    "\n",
    "# moveaxis函数是移动轴函数：初始轴'维度0', 目标轴'-2'指的是倒数第二个维度, 即'维度2'\n",
    "# 相当于拿出'维度0'这个轴, 剩下的往前一推，然后把'维度0'放在'维度2'这个位置\n",
    "i = np.moveaxis(i, 0, -2)\n",
    "print(i.shape)\n",
    "print(i)"
   ]
  },
  {
   "cell_type": "code",
   "execution_count": 59,
   "metadata": {},
   "outputs": [
    {
     "name": "stdout",
     "output_type": "stream",
     "text": [
      "(2, 3, 4)\n",
      "[[[ 0  1  2  3]\n",
      "  [ 4  5  6  7]\n",
      "  [ 8  9 10 11]]\n",
      "\n",
      " [[12 13 14 15]\n",
      "  [16 17 18 19]\n",
      "  [20 21 22 23]]]\n",
      "(4, 3, 2)\n",
      "[[[ 0 12]\n",
      "  [ 4 16]\n",
      "  [ 8 20]]\n",
      "\n",
      " [[ 1 13]\n",
      "  [ 5 17]\n",
      "  [ 9 21]]\n",
      "\n",
      " [[ 2 14]\n",
      "  [ 6 18]\n",
      "  [10 22]]\n",
      "\n",
      " [[ 3 15]\n",
      "  [ 7 19]\n",
      "  [11 23]]]\n"
     ]
    }
   ],
   "source": [
    "i = np.arange(24).reshape(2, 3, 4)\n",
    "print(i.shape)\n",
    "print(i)\n",
    "\n",
    "# swapaxes函数是交换轴函数: 交换'维度0'与'维度2'\n",
    "i = np.swapaxes(i, 0, 2)\n",
    "print(i.shape)\n",
    "print(i)"
   ]
  },
  {
   "cell_type": "code",
   "execution_count": 60,
   "metadata": {},
   "outputs": [
    {
     "name": "stdout",
     "output_type": "stream",
     "text": [
      "(1, 2, 3, 4)\n",
      "[[[[ 0  1  2  3]\n",
      "   [ 4  5  6  7]\n",
      "   [ 8  9 10 11]]\n",
      "\n",
      "  [[12 13 14 15]\n",
      "   [16 17 18 19]\n",
      "   [20 21 22 23]]]]\n",
      "(4, 3, 2, 1)\n",
      "[[[[ 0]\n",
      "   [12]]\n",
      "\n",
      "  [[ 4]\n",
      "   [16]]\n",
      "\n",
      "  [[ 8]\n",
      "   [20]]]\n",
      "\n",
      "\n",
      " [[[ 1]\n",
      "   [13]]\n",
      "\n",
      "  [[ 5]\n",
      "   [17]]\n",
      "\n",
      "  [[ 9]\n",
      "   [21]]]\n",
      "\n",
      "\n",
      " [[[ 2]\n",
      "   [14]]\n",
      "\n",
      "  [[ 6]\n",
      "   [18]]\n",
      "\n",
      "  [[10]\n",
      "   [22]]]\n",
      "\n",
      "\n",
      " [[[ 3]\n",
      "   [15]]\n",
      "\n",
      "  [[ 7]\n",
      "   [19]]\n",
      "\n",
      "  [[11]\n",
      "   [23]]]]\n"
     ]
    }
   ],
   "source": [
    "i = np.arange(24).reshape(1, 2, 3, 4)\n",
    "print(i.shape)\n",
    "print(i)\n",
    "\n",
    "# transpose函数是，全部翻转过来\n",
    "i = np.transpose(i)\n",
    "print(i.shape)\n",
    "print(i)"
   ]
  },
  {
   "cell_type": "markdown",
   "metadata": {},
   "source": [
    "<center> <font color = #82318E size = 3 face = \"微软雅黑\" > 类型转换 </font> </center>"
   ]
  },
  {
   "cell_type": "code",
   "execution_count": 61,
   "metadata": {},
   "outputs": [
    {
     "name": "stdout",
     "output_type": "stream",
     "text": [
      "[[ 1.  1.]\n",
      " [ 1.  1.]\n",
      " [ 1.  1.]]\n",
      "[[ 1.  1.]\n",
      " [ 1.  1.]\n",
      " [ 1.  1.]]\n"
     ]
    }
   ],
   "source": [
    "j = np.ones((3, 2))\n",
    "print(j)\n",
    "\n",
    "# 这里asmatrix函数并没有什么实际作用, 只是在这里向大家展示一下 \n",
    "j = np.asmatrix(j, dtype = np.float64)\n",
    "print(j)"
   ]
  },
  {
   "cell_type": "markdown",
   "metadata": {
    "collapsed": true
   },
   "source": [
    "<center> <font color = #82318E size = 3 face = \"微软雅黑\" > 连接 </font> </center>"
   ]
  },
  {
   "cell_type": "code",
   "execution_count": 62,
   "metadata": {},
   "outputs": [
    {
     "name": "stdout",
     "output_type": "stream",
     "text": [
      "[[ 1.  1.]\n",
      " [ 1.  1.]\n",
      " [ 1.  1.]\n",
      " [ 1.  1.]\n",
      " [ 1.  1.]\n",
      " [ 1.  1.]]\n",
      "[[ 1.  1.  1.  1.  1.  1.]\n",
      " [ 1.  1.  1.  1.  1.  1.]\n",
      " [ 1.  1.  1.  1.  1.  1.]]\n"
     ]
    }
   ],
   "source": [
    "l = np.ones((2, 2))\n",
    "m = np.ones((3, 2))\n",
    "n = np.ones((1, 2))\n",
    "\n",
    "# axis表示连接轴, '维度0'表示连接后, 行拼在了一起\n",
    "k = np.concatenate((l, m, n), axis = 0)\n",
    "print(k)\n",
    "\n",
    "l = np.ones((3, 1))\n",
    "m = np.ones((3, 2))\n",
    "n = np.ones((3, 3))\n",
    "\n",
    "k = np.concatenate((l, m, n), axis = 1)\n",
    "print(k)"
   ]
  },
  {
   "cell_type": "markdown",
   "metadata": {
    "collapsed": true
   },
   "source": [
    "<center> <font color = #82318E size = 3 face = \"微软雅黑\" > 数组堆叠 </font> </center>"
   ]
  },
  {
   "cell_type": "code",
   "execution_count": 63,
   "metadata": {},
   "outputs": [
    {
     "name": "stdout",
     "output_type": "stream",
     "text": [
      "[[ 0.  1.  2.]\n",
      " [ 1.  1.  1.]]\n"
     ]
    }
   ],
   "source": [
    "m = np.arange(3)\n",
    "n = np.ones(3)\n",
    "\n",
    "# axis表示堆叠轴, '维度0'表示堆叠后, 行堆在了一起\n",
    "k = np.stack((m, n), axis = 0)\n",
    "print(k)"
   ]
  },
  {
   "cell_type": "code",
   "execution_count": 64,
   "metadata": {},
   "outputs": [
    {
     "name": "stdout",
     "output_type": "stream",
     "text": [
      "[[ 0.  1.]\n",
      " [ 1.  1.]\n",
      " [ 2.  1.]]\n",
      "[[ 0.  1.]\n",
      " [ 1.  1.]\n",
      " [ 2.  1.]]\n",
      "[[ 0.  1.]\n",
      " [ 1.  1.]\n",
      " [ 2.  1.]]\n",
      "[[ 0.  1.]\n",
      " [ 1.  1.]\n",
      " [ 2.  1.]]\n",
      "\n"
     ]
    }
   ],
   "source": [
    "m = np.arange(3)\n",
    "n = np.ones(3)\n",
    "\n",
    "# axis表示堆叠轴, '维度1'表示堆叠后, 列堆在了一起\n",
    "k = np.stack((m, n), axis = 1)\n",
    "print(k)\n",
    "\n",
    "k = np.column_stack((m, n))\n",
    "print(k)\n",
    "\n",
    "m = np.asmatrix(m)\n",
    "n = np.asmatrix(n)\n",
    "k = np.concatenate((m.T, n.transpose()), axis = 1)\n",
    "print(k)\n",
    "\n",
    "# 相当于在concatenate函数中, axis选择了'维度1'\n",
    "k = np.hstack((m.T, np.transpose(n)))\n",
    "print(k)\n",
    "\n",
    "\"\"\"\n",
    "以上四者效果是一样哒\n",
    "值得一提的是\n",
    "后两种需要先转化为matrix类型, 这是因为一维array是数组类型不支持转置\n",
    "\"\"\"\n",
    "\n",
    "print()"
   ]
  },
  {
   "cell_type": "markdown",
   "metadata": {},
   "source": [
    "<center> <font color = #82318E size = 3 face = \"微软雅黑\" > 拆分 </font> </center>"
   ]
  },
  {
   "cell_type": "code",
   "execution_count": 65,
   "metadata": {},
   "outputs": [
    {
     "name": "stdout",
     "output_type": "stream",
     "text": [
      "[[ 0  1  2  3  4  5]\n",
      " [ 6  7  8  9 10 11]]\n",
      "[[0 1 2 3 4 5]]\n",
      "[[ 6  7  8  9 10 11]]\n",
      "[[0 1 2]\n",
      " [6 7 8]]\n",
      "[[ 3  4  5]\n",
      " [ 9 10 11]]\n"
     ]
    }
   ],
   "source": [
    "o = np.arange(12).reshape(2, 6)\n",
    "print(o)\n",
    "\n",
    "#split函数, 第二个参数表示拆分成几个, 第三个参数表示按'维度0'拆分\n",
    "(p,q) = np.split(ary = o, indices_or_sections = 2 ,axis = 0)\n",
    "print(p)\n",
    "print(q)\n",
    "\n",
    "(p,q) = np.split(o, 2 ,axis = 1)\n",
    "print(p)\n",
    "print(q)"
   ]
  },
  {
   "cell_type": "markdown",
   "metadata": {},
   "source": [
    "<center> <font color = #82318E size = 3 face = \"微软雅黑\" > 删除 </font> </center>"
   ]
  },
  {
   "cell_type": "code",
   "execution_count": 66,
   "metadata": {},
   "outputs": [
    {
     "name": "stdout",
     "output_type": "stream",
     "text": [
      "[[ 0  1  2  3  4  5]\n",
      " [ 6  7  8  9 10 11]\n",
      " [12 13 14 15 16 17]\n",
      " [18 19 20 21 22 23]]\n",
      "[[ 0  1  2  3  4  5]\n",
      " [ 6  7  8  9 10 11]\n",
      " [18 19 20 21 22 23]]\n",
      "[[ 0  2  4  5]\n",
      " [ 6  8 10 11]\n",
      " [18 20 22 23]]\n"
     ]
    }
   ],
   "source": [
    "r = np.arange(24).reshape(4, 6)\n",
    "print(r)\n",
    "\n",
    "# delete函数表示删除, obj表示删除'索引2', axis表示在'维度0'上删除\n",
    "r = np.delete(arr = r, obj = 2, axis = 0)\n",
    "print(r)\n",
    "\n",
    "r = np.delete(r, np.arange(1,5,step = 2), axis = 1)\n",
    "print(r)"
   ]
  },
  {
   "cell_type": "markdown",
   "metadata": {},
   "source": [
    "<center> <font color = #82318E size = 3 face = \"微软雅黑\" > 插入 </font> </center>"
   ]
  },
  {
   "cell_type": "code",
   "execution_count": 67,
   "metadata": {},
   "outputs": [
    {
     "name": "stdout",
     "output_type": "stream",
     "text": [
      "[[0 1 2 3]\n",
      " [1 2 3 4]\n",
      " [2 3 4 5]]\n",
      "[[3 2 1 0]\n",
      " [4 3 2 1]]\n",
      "[[0 1 2 3]\n",
      " [3 2 1 0]\n",
      " [4 3 2 1]\n",
      " [1 2 3 4]\n",
      " [2 3 4 5]]\n"
     ]
    }
   ],
   "source": [
    "u = np.fromfunction(lambda a, b : a + b, (3, 4), dtype = np.int)\n",
    "print(u)\n",
    "\n",
    "v = np.array([[3, 2, 1, 0],[4, 3, 2, 1]], dtype = np.int)\n",
    "print(v)\n",
    "\n",
    "'''\n",
    "在'维度0'上, 将v插入到u的'索引1'处 \n",
    "'''\n",
    "w = np.insert(arr = u, obj = 1, values = v, axis = 0)\n",
    "print(w)"
   ]
  },
  {
   "cell_type": "markdown",
   "metadata": {},
   "source": [
    "<center> <font color = #82318E size = 3 face = \"微软雅黑\" > 附加 </font> </center>"
   ]
  },
  {
   "cell_type": "code",
   "execution_count": 68,
   "metadata": {},
   "outputs": [
    {
     "name": "stdout",
     "output_type": "stream",
     "text": [
      "[[ 1.  0.  0.  0.]\n",
      " [ 0.  1.  0.  0.]\n",
      " [ 0.  0.  1.  0.]]\n",
      "[[0 1 2 3]]\n",
      "[[ 1.  0.  0.  0.]\n",
      " [ 0.  1.  0.  0.]\n",
      " [ 0.  0.  1.  0.]\n",
      " [ 0.  1.  2.  3.]]\n"
     ]
    }
   ],
   "source": [
    "s = np.eye(3, 4)\n",
    "print(s)\n",
    "t = np.arange(4).reshape(1, 4)\n",
    "print(t)\n",
    "\n",
    "# 相当于insert函数, obj选择了最后一个'索引-1'\n",
    "# 注意: s与t的规模需对应\n",
    "s = np.append(arr = s, values = t, axis = 0)\n",
    "print(s)"
   ]
  },
  {
   "cell_type": "code",
   "execution_count": 69,
   "metadata": {},
   "outputs": [
    {
     "name": "stdout",
     "output_type": "stream",
     "text": [
      "[0 1 2 3 4 0 1 2]\n"
     ]
    }
   ],
   "source": [
    "# 一般应用场景, 就是直接将数组连在数组后面\n",
    "s = np.arange(5)\n",
    "t = np.arange(3)\n",
    "\n",
    "s = np.append(s, t)\n",
    "print(s)"
   ]
  },
  {
   "cell_type": "markdown",
   "metadata": {},
   "source": [
    "<center> <font color = #82318E size = 3 face = \"微软雅黑\" > 翻转 </font> </center>"
   ]
  },
  {
   "cell_type": "code",
   "execution_count": 70,
   "metadata": {},
   "outputs": [
    {
     "name": "stdout",
     "output_type": "stream",
     "text": [
      "[[ 0  1  2  3]\n",
      " [ 4  5  6  7]\n",
      " [ 8  9 10 11]]\n",
      "[[ 3  2  1  0]\n",
      " [ 7  6  5  4]\n",
      " [11 10  9  8]]\n",
      "[[ 8  9 10 11]\n",
      " [ 4  5  6  7]\n",
      " [ 0  1  2  3]]\n"
     ]
    }
   ],
   "source": [
    "x = np.arange(12).reshape(3, 4)\n",
    "print(x)\n",
    "\n",
    "y = np.fliplr(x)\n",
    "print(y)\n",
    "\n",
    "y = np.flipud(x)\n",
    "print(y)"
   ]
  },
  {
   "cell_type": "markdown",
   "metadata": {},
   "source": [
    "<center> <font color = #82318E size = 3 face = \"微软雅黑\" > 抽签? 抽签! </font> </center>"
   ]
  },
  {
   "cell_type": "code",
   "execution_count": 71,
   "metadata": {},
   "outputs": [
    {
     "data": {
      "text/plain": [
       "array([7, 0, 3, 5, 8, 6, 1, 4])"
      ]
     },
     "execution_count": 71,
     "metadata": {},
     "output_type": "execute_result"
    }
   ],
   "source": [
    "# 按照概率p在数组a里, 不('False')放回抽取'6'个数\n",
    "pro = np.array([0.1, 0.1, 0.1, 0.1, 0.1, 0.1, 0.1, 0.1, 0.1, 0.1], dtype = np.float64)\n",
    "np.random.choice(a = np.arange(10), size = 8, replace = False, p = pro)"
   ]
  },
  {
   "cell_type": "code",
   "execution_count": 72,
   "metadata": {},
   "outputs": [
    {
     "data": {
      "text/plain": [
       "array([8])"
      ]
     },
     "execution_count": 72,
     "metadata": {},
     "output_type": "execute_result"
    }
   ],
   "source": [
    "np.random.choice(np.arange(10), 1)"
   ]
  },
  {
   "cell_type": "markdown",
   "metadata": {},
   "source": [
    "<center> <font color = #82318E size = 3 face = \"微软雅黑\" > 正态分布 </font> </center>"
   ]
  },
  {
   "cell_type": "code",
   "execution_count": 73,
   "metadata": {},
   "outputs": [
    {
     "data": {
      "text/plain": [
       "array([ 0.14509952, -1.46819861,  0.24446   ,  0.28993389,  0.34804353,\n",
       "        1.28461311, -0.69108163,  0.81203384, -0.24216001, -1.37106198])"
      ]
     },
     "execution_count": 73,
     "metadata": {},
     "output_type": "execute_result"
    }
   ],
   "source": [
    "# 正态分布 N(mu, sigma)\n",
    "mu = 0\n",
    "sigma = 1\n",
    "np.random.normal(loc = mu, scale = sigma, size = 10)"
   ]
  },
  {
   "cell_type": "code",
   "execution_count": 74,
   "metadata": {},
   "outputs": [
    {
     "data": {
      "text/plain": [
       "array([[ 1.53427619, -0.05481625],\n",
       "       [ 0.34829756,  0.66931833],\n",
       "       [ 1.84170414,  1.62337038],\n",
       "       [-0.34782167,  0.68334497],\n",
       "       [-0.5346977 , -0.73583048],\n",
       "       [-1.98101897,  2.01842865],\n",
       "       [-0.18840164,  0.32614588],\n",
       "       [-1.20553684, -1.31423707],\n",
       "       [-0.08389654, -0.67385499],\n",
       "       [ 0.18406802, -0.7647344 ]])"
      ]
     },
     "execution_count": 74,
     "metadata": {},
     "output_type": "execute_result"
    }
   ],
   "source": [
    "np.random.multivariate_normal(mean = np.zeros(2), cov = np.eye(2, 2), size = 10)"
   ]
  },
  {
   "cell_type": "markdown",
   "metadata": {},
   "source": [
    "<center> <font color = #82318E size = 3 face = \"微软雅黑\" > 均匀分布 </font> </center>"
   ]
  },
  {
   "cell_type": "code",
   "execution_count": 75,
   "metadata": {
    "scrolled": true
   },
   "outputs": [
    {
     "data": {
      "text/plain": [
       "array([[-0.88746992, -0.98659382, -0.29679926,  0.82429003],\n",
       "       [-0.0268614 , -0.50619911, -0.74357946, -0.23329985],\n",
       "       [ 0.85971653, -0.28446644, -0.34286843, -0.41656066]])"
      ]
     },
     "execution_count": 75,
     "metadata": {},
     "output_type": "execute_result"
    }
   ],
   "source": [
    "# 均匀分布 从[low,high)中取数, 填充成'(3, 4)'\n",
    "np.random.uniform(low = -1, high = 1, size = (3, 4))"
   ]
  },
  {
   "cell_type": "markdown",
   "metadata": {},
   "source": [
    "<center> <font color = #82318E size = 4 face = \"微软雅黑\" > 2. 数学函数 </font> </center>"
   ]
  },
  {
   "cell_type": "markdown",
   "metadata": {},
   "source": [
    "<center> <font color = #82318E size = 3 face = \"微软雅黑\" > 三角函数 </font> </center>"
   ]
  },
  {
   "cell_type": "code",
   "execution_count": 76,
   "metadata": {},
   "outputs": [
    {
     "name": "stdout",
     "output_type": "stream",
     "text": [
      "0.5\n",
      "0.866025403784\n",
      "0.57735026919\n",
      "1.57079632679\n",
      "180.0\n",
      "3.14159265359\n"
     ]
    }
   ],
   "source": [
    "print(np.sin(1/6 * np.pi))\n",
    "print(np.cos(1/6 * np.pi))\n",
    "print(np.tan(1/6 * np.pi))\n",
    "print(np.arcsin(1))\n",
    "print(np.rad2deg(np.pi))\n",
    "print(np.deg2rad(180))"
   ]
  },
  {
   "cell_type": "markdown",
   "metadata": {},
   "source": [
    "<center> <font color = #82318E size = 3 face = \"微软雅黑\" > 双曲函数 </font> </center>"
   ]
  },
  {
   "cell_type": "code",
   "execution_count": 77,
   "metadata": {},
   "outputs": [
    {
     "name": "stdout",
     "output_type": "stream",
     "text": [
      "0.0\n"
     ]
    }
   ],
   "source": [
    "print(np.tanh(0))"
   ]
  },
  {
   "cell_type": "markdown",
   "metadata": {},
   "source": [
    "<center> <font color = #82318E size = 3 face = \"微软雅黑\" > 数值修约 </font> </center>"
   ]
  },
  {
   "cell_type": "code",
   "execution_count": 78,
   "metadata": {},
   "outputs": [
    {
     "name": "stdout",
     "output_type": "stream",
     "text": [
      "1.235\n",
      " \n",
      "6.0\n",
      "5.0\n",
      " \n",
      "-2.0\n",
      "2.0\n",
      " \n",
      "2.0\n",
      "3.0\n",
      "2.0\n"
     ]
    }
   ],
   "source": [
    "# 保留'3'位小数\n",
    "print(np.round_(1.23456789, 3))\n",
    "\n",
    "print(' ')\n",
    "# 四舍五入到整数\n",
    "print(np.rint(5.5))\n",
    "print(np.rint(5.48))\n",
    "\n",
    "print(' ')\n",
    "# 向0取整\n",
    "print(np.fix(-2.34))\n",
    "print(np.fix(2.34))\n",
    "\n",
    "print(' ')\n",
    "# 向下取整\n",
    "print(np.floor(2.34))\n",
    "\n",
    "# 向上取整\n",
    "print(np.ceil(2.34))\n",
    "\n",
    "# 取整数部分\n",
    "print(np.trunc(2.34))"
   ]
  },
  {
   "cell_type": "markdown",
   "metadata": {},
   "source": [
    "<center> <font color = #82318E size = 3 face = \"微软雅黑\" > 矩阵操作 </font> </center>"
   ]
  },
  {
   "cell_type": "code",
   "execution_count": 79,
   "metadata": {},
   "outputs": [
    {
     "name": "stdout",
     "output_type": "stream",
     "text": [
      "[[ 0  1  2  3]\n",
      " [ 4  5  6  7]\n",
      " [ 8  9 10 11]]\n",
      "[[    0.]\n",
      " [  840.]\n",
      " [ 7920.]]\n",
      "[[    0.]\n",
      " [  840.]\n",
      " [ 7920.]]\n",
      "[[   0    0    0    0]\n",
      " [   4   20  120  840]\n",
      " [   8   72  720 7920]]\n"
     ]
    }
   ],
   "source": [
    "a = np.arange(12).reshape(3, 4)\n",
    "print(a)\n",
    "\n",
    "# 将a的'维度1'上的数乘起来压到剩余维度上, '维度1'上仅剩一数, ('True')保持维度\n",
    "b = np.prod(a, axis = 1, dtype = np.float, keepdims = True)\n",
    "print(b)\n",
    "\n",
    "# NaN视为1\n",
    "c = np.nanprod(a, axis = 1, dtype = np.float, keepdims = True)\n",
    "print(c)\n",
    "\n",
    "# 累积求积\n",
    "d = np.nancumprod(a, axis = 1, dtype = np.int32)\n",
    "print(d)"
   ]
  },
  {
   "cell_type": "code",
   "execution_count": 80,
   "metadata": {},
   "outputs": [
    {
     "name": "stdout",
     "output_type": "stream",
     "text": [
      "[[ 0  1  2  3]\n",
      " [ 4  5  6  7]\n",
      " [ 8  9 10 11]]\n",
      "[[ 12.  15.  18.  21.]]\n",
      "[[ 12.  15.  18.  21.]]\n",
      "[[ 0  1  2  3]\n",
      " [ 4  6  8 10]\n",
      " [12 15 18 21]]\n"
     ]
    }
   ],
   "source": [
    "a = np.arange(12).reshape(3, 4)\n",
    "print(a)\n",
    "\n",
    "# 将a的'维度1'上的数乘起来压到剩余维度上, '维度1'上仅剩一数, ('True')保持维度\n",
    "b = np.sum(a, axis = 0, dtype = np.float, keepdims = True)\n",
    "print(b)\n",
    "\n",
    "# NaN视为0\n",
    "c = np.nansum(a, axis = 0, dtype = np.float, keepdims = True)\n",
    "print(c)\n",
    "\n",
    "# 累积求和\n",
    "d = np.nancumsum(a, axis = 0, dtype = np.int32)\n",
    "print(d)"
   ]
  },
  {
   "cell_type": "code",
   "execution_count": 81,
   "metadata": {},
   "outputs": [
    {
     "name": "stdout",
     "output_type": "stream",
     "text": [
      "[[ 0  1  2]\n",
      " [ 3  4  5]\n",
      " [ 6  7  8]\n",
      " [ 9 10 11]]\n",
      "[[3 3 3]\n",
      " [3 3 3]\n",
      " [3 3 3]]\n",
      "[[0]\n",
      " [0]\n",
      " [0]\n",
      " [0]]\n"
     ]
    }
   ],
   "source": [
    "a = np.arange(12).reshape(4, 3)\n",
    "print(a)\n",
    "\n",
    "# 将'维度0'做'1阶'差分\n",
    "b = np.diff(a, n = 1, axis = 0)\n",
    "print(b)\n",
    "\n",
    "c = np.diff(a, n = 2, axis = 1)\n",
    "print(c)"
   ]
  },
  {
   "cell_type": "markdown",
   "metadata": {},
   "source": [
    "<center> <font color = #82318E size = 3 face = \"微软雅黑\" > 指数 </font> </center>"
   ]
  },
  {
   "cell_type": "code",
   "execution_count": 82,
   "metadata": {},
   "outputs": [
    {
     "data": {
      "text/plain": [
       "array([ 0.04978707,  7.3890561 ])"
      ]
     },
     "execution_count": 82,
     "metadata": {},
     "output_type": "execute_result"
    }
   ],
   "source": [
    "d = np.array([-3, 2], dtype = np.float)\n",
    "np.exp(d)"
   ]
  },
  {
   "cell_type": "markdown",
   "metadata": {},
   "source": [
    "<center> <font color = #82318E size = 3 face = \"微软雅黑\" > 对数 </font> </center>"
   ]
  },
  {
   "cell_type": "code",
   "execution_count": 83,
   "metadata": {},
   "outputs": [
    {
     "data": {
      "text/plain": [
       "array([ 0.        ,  0.69314718])"
      ]
     },
     "execution_count": 83,
     "metadata": {},
     "output_type": "execute_result"
    }
   ],
   "source": [
    "d = np.array([1, 2], dtype = np.int32)\n",
    "# 以e为底\n",
    "np.log(d)"
   ]
  },
  {
   "cell_type": "markdown",
   "metadata": {},
   "source": [
    "<center> <font color = #82318E size = 3 face = \"微软雅黑\" > 算术运算 </font> </center>"
   ]
  },
  {
   "cell_type": "code",
   "execution_count": 84,
   "metadata": {
    "scrolled": false
   },
   "outputs": [
    {
     "name": "stdout",
     "output_type": "stream",
     "text": [
      "[[8 4 5 9]\n",
      " [8 6 0 5]\n",
      " [6 3 4 7]]\n",
      "[[ 1.  2.  3.  4.]\n",
      " [ 2.  3.  4.  5.]\n",
      " [ 3.  4.  5.  6.]]\n"
     ]
    }
   ],
   "source": [
    "a = np.random.choice(np.arange(10), (3, 4))\n",
    "print(a)\n",
    "\n",
    "b = np.fromfunction(lambda a, b : a + b + 1, (3, 4), dtype = np.float)\n",
    "print(b)"
   ]
  },
  {
   "cell_type": "code",
   "execution_count": 85,
   "metadata": {},
   "outputs": [
    {
     "name": "stdout",
     "output_type": "stream",
     "text": [
      "[[  9.   6.   8.  13.]\n",
      " [ 10.   9.   4.  10.]\n",
      " [  9.   7.   9.  13.]]\n",
      "[[ 7.  2.  2.  5.]\n",
      " [ 6.  3. -4.  0.]\n",
      " [ 3. -1. -1.  1.]]\n",
      "[[ 1.          0.5         0.33333333  0.25      ]\n",
      " [ 0.5         0.33333333  0.25        0.2       ]\n",
      " [ 0.33333333  0.25        0.2         0.16666667]]\n",
      "[[-8 -4 -5 -9]\n",
      " [-8 -6  0 -5]\n",
      " [-6 -3 -4 -7]]\n",
      "[[  8.   8.  15.  36.]\n",
      " [ 16.  18.   0.  25.]\n",
      " [ 18.  12.  20.  42.]]\n",
      "[[ 8.          2.          1.66666667  2.25      ]\n",
      " [ 4.          2.          0.          1.        ]\n",
      " [ 2.          0.75        0.8         1.16666667]]\n",
      "[[64 16 25 81]\n",
      " [64 36  0 25]\n",
      " [36  9 16 49]]\n"
     ]
    }
   ],
   "source": [
    "'''\n",
    "------矩阵加法------\n",
    "'''\n",
    "c = np.add(a, b)\n",
    "print(c)\n",
    "\n",
    "\n",
    "'''\n",
    "------矩阵减法------\n",
    "'''\n",
    "c = np.subtract(a, b)\n",
    "print(c)\n",
    "\n",
    "\n",
    "'''\n",
    "------矩阵各元素求倒数------\n",
    "Remark: 元素要设成 np.float\n",
    "'''\n",
    "c = np.reciprocal(b)\n",
    "print(c)\n",
    "\n",
    "\n",
    "'''\n",
    "------矩阵各元素求负数------\n",
    "'''\n",
    "c = np.negative(a)\n",
    "print(c)\n",
    "\n",
    "\n",
    "'''\n",
    "------矩阵对应位置相乘------\n",
    "'''\n",
    "c = np.multiply(a, b)\n",
    "print(c)\n",
    "\n",
    "\n",
    "'''\n",
    "------矩阵对应位置相除------\n",
    "'''\n",
    "c = np.divide(a, b)\n",
    "print(c)\n",
    "\n",
    "\n",
    "'''\n",
    "------矩阵各元素'2'次幂------\n",
    "'''\n",
    "c = np.power(a, 2)\n",
    "print(c)"
   ]
  },
  {
   "cell_type": "code",
   "execution_count": 86,
   "metadata": {},
   "outputs": [
    {
     "name": "stdout",
     "output_type": "stream",
     "text": [
      "[[ 1  2  3  4]\n",
      " [ 5  6  7  8]\n",
      " [ 9 10 11 12]]\n",
      "[[1 1 2 3]\n",
      " [1 3 3 4]\n",
      " [2 3 5 5]]\n",
      "[[0 0 1 1]\n",
      " [0 0 1 0]\n",
      " [1 1 1 2]]\n"
     ]
    }
   ],
   "source": [
    "a = np.add(np.arange(12), np.ones((1, 12))).reshape(3, 4)\n",
    "a = np.array(a, dtype = np.int)\n",
    "print(a)\n",
    "\n",
    "b = (np.fromfunction(lambda a, b: a + b, (3, 4), dtype = np.int) + np.eye(3, 4)).astype(np.int)\n",
    "print(b)\n",
    "\n",
    "'''\n",
    "------矩阵对应位置除法の余数------\n",
    "'''\n",
    "c = np.mod(a, b)\n",
    "print(c)\n"
   ]
  },
  {
   "cell_type": "code",
   "execution_count": 87,
   "metadata": {},
   "outputs": [
    {
     "name": "stdout",
     "output_type": "stream",
     "text": [
      "[[ 2  3  5  7]\n",
      " [ 6  9 10 12]\n",
      " [11 13 16 17]]\n",
      "[[0 1 1 1]\n",
      " [4 3 4 4]\n",
      " [7 7 6 7]]\n",
      "[[ 1  2  6 12]\n",
      " [ 5 18 21 32]\n",
      " [18 30 55 60]]\n",
      "[[ 1.          2.          1.5         1.33333333]\n",
      " [ 5.          2.          2.33333333  2.        ]\n",
      " [ 4.5         3.33333333  2.2         2.4       ]]\n",
      "[[1 2 1 1]\n",
      " [5 2 2 2]\n",
      " [4 3 2 2]]\n"
     ]
    }
   ],
   "source": [
    "'''\n",
    "--均为对应位置的操作--\n",
    "'''\n",
    "print(a + b)\n",
    "print(a - b)\n",
    "print(a * b)\n",
    "print(a / b)\n",
    "print(a // b)"
   ]
  },
  {
   "cell_type": "code",
   "execution_count": 88,
   "metadata": {},
   "outputs": [
    {
     "name": "stdout",
     "output_type": "stream",
     "text": [
      "[[ 0.5  -0.75]\n",
      " [ 0.25  0.  ]]\n",
      "[[ 0. -2.]\n",
      " [ 1.  6.]]\n"
     ]
    }
   ],
   "source": [
    "e = np.array([[0.5, -2.75], [1.25, 6]], dtype = np.float)\n",
    "\n",
    "'''\n",
    "------向0取整后, 分离小数部分和整数部分------\n",
    "'''\n",
    "f,g = np.modf(e)\n",
    "print(f)\n",
    "print(g)"
   ]
  },
  {
   "cell_type": "markdown",
   "metadata": {},
   "source": [
    "<center> <font color = #82318E size = 3 face = \"微软雅黑\" > 矩阵运算 </font> </center>"
   ]
  },
  {
   "cell_type": "code",
   "execution_count": 89,
   "metadata": {
    "scrolled": true
   },
   "outputs": [
    {
     "name": "stdout",
     "output_type": "stream",
     "text": [
      "[[1 2]\n",
      " [3 4]]\n",
      "[[1 1]\n",
      " [1 2]]\n",
      "[[ 3  5]\n",
      " [ 7 11]]\n",
      "[[1 1 2 2]\n",
      " [1 2 2 4]\n",
      " [3 3 4 4]\n",
      " [3 6 4 8]]\n"
     ]
    }
   ],
   "source": [
    "a = np.array([[1, 2], [3, 4]], dtype = np.int)\n",
    "print(a)\n",
    "b = np.array([[1, 1], [1, 2]], dtype = np.int)\n",
    "print(b)\n",
    "\n",
    "# 矩阵乘法\n",
    "print(np.dot(a,b))\n",
    "\n",
    "# Kronecker乘积\n",
    "print(np.kron(a,b))"
   ]
  },
  {
   "cell_type": "code",
   "execution_count": 90,
   "metadata": {},
   "outputs": [
    {
     "name": "stdout",
     "output_type": "stream",
     "text": [
      "[ 1 -1  2]\n",
      "[1 2 3]\n",
      "5\n",
      "[[ 1  2  3]\n",
      " [-1 -2 -3]\n",
      " [ 2  4  6]]\n"
     ]
    }
   ],
   "source": [
    "c = np.array([1, -1, 2], dtype = np.int)\n",
    "print(c)\n",
    "d = np.array([1, 2, 3], dtype = np.int)\n",
    "print(d)\n",
    "\n",
    "# 内积\n",
    "print(np.inner(c,d))\n",
    "# 外积\n",
    "print(np.outer(c,d))"
   ]
  },
  {
   "cell_type": "markdown",
   "metadata": {},
   "source": [
    "<center> <font color = #82318E size = 3 face = \"微软雅黑\" > 复数操作 </font> </center>"
   ]
  },
  {
   "cell_type": "code",
   "execution_count": 91,
   "metadata": {},
   "outputs": [
    {
     "name": "stdout",
     "output_type": "stream",
     "text": [
      "1.0 1.0\n",
      "0.785398163397\n",
      "(1-1j)\n",
      "1.41421356237\n"
     ]
    }
   ],
   "source": [
    "e = 1+1j\n",
    "print(np.real(e), np.imag(e))\n",
    "print(np.angle(e))\n",
    "print(np.conj(e)) \n",
    "print(np.abs(e))"
   ]
  },
  {
   "cell_type": "markdown",
   "metadata": {},
   "source": [
    "<center> <font color = #82318E size = 3 face = \"微软雅黑\" > 其他数学函数 </font> </center>"
   ]
  },
  {
   "cell_type": "code",
   "execution_count": 92,
   "metadata": {},
   "outputs": [
    {
     "name": "stdout",
     "output_type": "stream",
     "text": [
      "2.0\n",
      "16\n",
      "1.58740105197\n",
      "4\n",
      "-1\n"
     ]
    }
   ],
   "source": [
    "print(np.sqrt(4))\n",
    "print(np.square(4))\n",
    "print(np.cbrt(4))\n",
    "print(np.abs(-4))\n",
    "print(np.sign(-4))"
   ]
  },
  {
   "cell_type": "markdown",
   "metadata": {},
   "source": [
    "<center> <font color = #82318E size = 3 face = \"微软雅黑\" > 矩阵分解 </font> </center>"
   ]
  },
  {
   "cell_type": "code",
   "execution_count": 93,
   "metadata": {
    "scrolled": false
   },
   "outputs": [
    {
     "name": "stdout",
     "output_type": "stream",
     "text": [
      "[[ 1.  0.  0.]\n",
      " [ 0.  2.  2.]\n",
      " [ 0.  2.  5.]]\n",
      "[[ 1.          0.          0.        ]\n",
      " [ 0.          1.41421356  0.        ]\n",
      " [ 0.          1.41421356  1.73205081]]\n",
      "[[  0.00000000e+00   0.00000000e+00   0.00000000e+00]\n",
      " [  0.00000000e+00  -4.44089210e-16   0.00000000e+00]\n",
      " [  0.00000000e+00   0.00000000e+00   0.00000000e+00]]\n",
      "[ 1.  1.  6.]\n",
      "[[ 1.          0.          0.        ]\n",
      " [ 0.         -0.89442719  0.4472136 ]\n",
      " [ 0.          0.4472136   0.89442719]]\n",
      "[ 0.  0.  0.]\n",
      "[  0.00000000e+00   0.00000000e+00   1.66533454e-16]\n",
      "[ 0.  0.  0.]\n",
      "6.0\n",
      "[[ 1.          0.          0.        ]\n",
      " [ 0.          0.83333333 -0.33333333]\n",
      " [ 0.         -0.33333333  0.33333333]]\n",
      "[[ 1.          0.          0.        ]\n",
      " [ 0.          0.83333333 -0.33333333]\n",
      " [ 0.         -0.33333333  0.33333333]]\n"
     ]
    }
   ],
   "source": [
    "A = np.fromfunction(lambda a, b : a * b , (3, 3), dtype = np.float64) + np.eye(3, 3)\n",
    "print(A)\n",
    "\n",
    "'''\n",
    "------Cholesky分解(A = np.dot(L, L.T))------\n",
    "'''\n",
    "L = np.linalg.cholesky(A)\n",
    "print(L)\n",
    "print(A - np.dot(L, L.transpose()))\n",
    "\n",
    "'''\n",
    "------特征值与特征向量------\n",
    "'''\n",
    "lam, vec= np.linalg.eigh(A)\n",
    "print(lam)\n",
    "print(vec)\n",
    "\n",
    "for i in np.arange(np.size(lam)):\n",
    "    print(np.dot(A,vec[i].T) - lam[i] * vec[i].T)\n",
    "\n",
    "    \n",
    "'''\n",
    "------行列式------\n",
    "'''\n",
    "print(np.linalg.det(A))\n",
    "\n",
    "\n",
    "'''\n",
    "------逆------\n",
    "'''\n",
    "print(np.linalg.inv(A))\n",
    "\n",
    "\n",
    "'''\n",
    "------Moore-Penrose 广义逆------\n",
    "小于'1e-15'的奇异值，会被视为0\n",
    "'''\n",
    "print(np.linalg.pinv(A, rcond = 1e-15))\n",
    "\n"
   ]
  },
  {
   "cell_type": "markdown",
   "metadata": {},
   "source": [
    "<center> <font color = #82318E size = 4 face = \"微软雅黑\" > 3. 切片与索引 </font> </center>"
   ]
  },
  {
   "cell_type": "markdown",
   "metadata": {},
   "source": [
    "<center> <font color = #82318E size = 3 face = \"微软雅黑\" > list与arrayの取数 </font> </center>"
   ]
  },
  {
   "cell_type": "code",
   "execution_count": 94,
   "metadata": {},
   "outputs": [
    {
     "name": "stdout",
     "output_type": "stream",
     "text": [
      "<class 'numpy.ndarray'>\n",
      "[[ 0  1  2  3]\n",
      " [ 4  5  6  7]\n",
      " [ 8  9 10 11]]\n",
      "4\n",
      "4\n",
      "[ 3  6 11]\n"
     ]
    }
   ],
   "source": [
    "a = np.arange(12).reshape(3, 4)\n",
    "print(type(a))\n",
    "print(a)\n",
    "print(a[1][0])\n",
    "print(a[1, 0])\n",
    "print(a[[0, 1, 2], [3, 2,  -1]])\n",
    "# numpy.ndarray 还支持这种'维度0'上取'0 1 2', '维度1'上取'3 2 -1', \n",
    "# 即 a[0][3] a[1][2] a[2][3] 这3个数\n"
   ]
  },
  {
   "cell_type": "code",
   "execution_count": 1,
   "metadata": {},
   "outputs": [
    {
     "name": "stdout",
     "output_type": "stream",
     "text": [
      "<class 'list'>\n",
      "[[0, 1, 2, 3], [4, 5, 6, 7], [8, 9, 10, 11]]\n",
      "4\n"
     ]
    }
   ],
   "source": [
    "b = [[0, 1, 2, 3], [4, 5, 6, 7], [8, 9, 10, 11]]\n",
    "print(type(b))\n",
    "print(b)\n",
    "print(b[1][0])\n",
    "# list 不支持 b[1, 0] 这种取数方式"
   ]
  },
  {
   "cell_type": "markdown",
   "metadata": {},
   "source": [
    "<center> <font color = #82318E size = 3 face = \"微软雅黑\" > 切片 </font> </center>"
   ]
  },
  {
   "cell_type": "code",
   "execution_count": 96,
   "metadata": {
    "scrolled": true
   },
   "outputs": [
    {
     "name": "stdout",
     "output_type": "stream",
     "text": [
      "[[ 1  3  5  7]\n",
      " [ 9 11 13 15]\n",
      " [17 19 21 23]]\n",
      "[[ 1  3  5  7]\n",
      " [ 9 11 13 15]\n",
      " [17 19 21 23]]\n",
      "[[ 1  5]\n",
      " [ 9 13]]\n"
     ]
    }
   ],
   "source": [
    "c = np.arange(1, 24, 2).reshape(3, 4)\n",
    "print(c)\n",
    "\n",
    "\n",
    "'''\n",
    "------Ndarray[start:stop:step]------\n",
    "按照[start,stop), 间隔为step\n",
    "'''\n",
    "print(c[0:3:1, ::])\n",
    "print(c[[0, 1], ::2])"
   ]
  },
  {
   "cell_type": "markdown",
   "metadata": {},
   "source": [
    "<center> <font color = #82318E size = 3 face = \"微软雅黑\" > 排序 </font> </center>"
   ]
  },
  {
   "cell_type": "code",
   "execution_count": 97,
   "metadata": {},
   "outputs": [
    {
     "name": "stdout",
     "output_type": "stream",
     "text": [
      "[[10  1  5  7]\n",
      " [ 2  9 11  6]\n",
      " [12  3  8  4]]\n"
     ]
    }
   ],
   "source": [
    "d = np.random.choice(np.arange(1, 13), size = 12, replace = False).reshape(3, 4)\n",
    "print(d)"
   ]
  },
  {
   "cell_type": "code",
   "execution_count": 98,
   "metadata": {},
   "outputs": [
    {
     "name": "stdout",
     "output_type": "stream",
     "text": [
      "[[ 2  1  5  4]\n",
      " [10  3  8  6]\n",
      " [12  9 11  7]]\n"
     ]
    }
   ],
   "source": [
    "'''\n",
    "按照 小 -> 大 の顺序, 沿'维度0'做快速排序, 使'维度0'有序\n",
    "'quicksort'--快速排序\n",
    "'mergesort'--归并排序\n",
    "'heapsort'--堆排序\n",
    "'''\n",
    "print(np.sort(d, axis = 0, kind = 'quicksort'))"
   ]
  },
  {
   "cell_type": "code",
   "execution_count": 99,
   "metadata": {},
   "outputs": [
    {
     "name": "stdout",
     "output_type": "stream",
     "text": [
      "[(b'CcC',  1.7, 38) (b'Bb',  1.9, 38) (b'A',  1.8, 41)]\n"
     ]
    }
   ],
   "source": [
    "stru = [('name', 'S3'), ('height', float), ('age', int)]\n",
    "values = [('A', 1.8, 41), ('Bb', 1.9, 38), ('CcCc', 1.7, 38)]\n",
    "'''\n",
    "这种用法, 先声明一个 dtype, \n",
    "然后按照 order 中规定先'age', 若相同则考虑'height', 由 小 -> 大 排序 \n",
    "'''\n",
    "\n",
    "e = np.array(values, dtype = stru)\n",
    "print(np.sort(e, order = ['age', 'height']))"
   ]
  },
  {
   "cell_type": "markdown",
   "metadata": {},
   "source": [
    "<center> <font color = #82318E size = 3 face = \"微软雅黑\" > 搜索 </font> </center>"
   ]
  },
  {
   "cell_type": "code",
   "execution_count": 3,
   "metadata": {
    "scrolled": true
   },
   "outputs": [
    {
     "name": "stdout",
     "output_type": "stream",
     "text": [
      "[[        nan -3.58280261         nan -0.91930665]\n",
      " [-0.67561271  0.21017548 -1.82386155  0.26272452]\n",
      " [        nan -1.79368552         nan -1.20576508]]\n"
     ]
    }
   ],
   "source": [
    "f = np.random.normal(loc = 0, scale = 1, size = (3, 4))\n",
    "f[::2, ::2] = np.nan\n",
    "print(f)"
   ]
  },
  {
   "cell_type": "code",
   "execution_count": 5,
   "metadata": {},
   "outputs": [
    {
     "name": "stdout",
     "output_type": "stream",
     "text": [
      "[1 0 1 2]\n",
      "-0.675612705873\n",
      "-3.58280260832\n",
      "-1.82386154578\n",
      "-1.20576507896\n",
      "[-0.67561271 -3.58280261 -1.82386155 -1.20576508]\n"
     ]
    }
   ],
   "source": [
    "'''\n",
    "忽略nan, \n",
    "沿着'维度0'搜索(这么理解, 返回の值是'维度0'の), \n",
    "返回最小值所在的索引\n",
    "'''\n",
    "i = np.nanargmin(f, axis = 0)\n",
    "print(i)\n",
    "\n",
    "for j in np.arange(f.shape[1]):\n",
    "    print(f[i[j]][j])\n",
    "\n",
    "'''\n",
    "亦可如此表述\n",
    "'''\n",
    "print(f[i, np.arange(f.shape[1])])"
   ]
  },
  {
   "cell_type": "code",
   "execution_count": 102,
   "metadata": {},
   "outputs": [
    {
     "name": "stdout",
     "output_type": "stream",
     "text": [
      "[0 1 2]\n",
      "[1 1 3]\n",
      "[ 1.01442652  1.37198143  0.44398359]\n"
     ]
    }
   ],
   "source": [
    "print(np.arange(f.shape[0]))\n",
    "print(np.nanargmax(f, axis = 1))\n",
    "print(f[np.arange(f.shape[0]), np.nanargmax(f, axis = 1)])"
   ]
  },
  {
   "cell_type": "code",
   "execution_count": 103,
   "metadata": {},
   "outputs": [
    {
     "name": "stdout",
     "output_type": "stream",
     "text": [
      "[[ 7  5  3  1]\n",
      " [15 13 11  9]\n",
      " [23 21 19 17]]\n",
      "[[False False False False]\n",
      " [False False False False]\n",
      " [ True  True False False]]\n",
      "(array([2, 2]), array([0, 1]))\n",
      "[23 21]\n",
      "[[ 0  0  0  0]\n",
      " [ 0  0  0  0]\n",
      " [23 21  0  0]]\n",
      "[[ 0  0  0  0]\n",
      " [ 0  0  0  0]\n",
      " [23 21  0  0]]\n"
     ]
    }
   ],
   "source": [
    "B = np.fliplr(np.arange(1, 24, step = 2, dtype = np.int).reshape(3, 4))\n",
    "print(B)\n",
    "\n",
    "print(B > 20)\n",
    "print(np.where(B > 20))\n",
    "print(B[np.where(B > 20)])\n",
    "\n",
    "'''\n",
    "这个有点像以前学的 C 里面的那个惟一的三目运算符(条件运算符 ? :)\n",
    "条件取真，则赋'B'的值, 否则赋'0'\n",
    "'''\n",
    "print(np.where(B > 20, B, np.zeros((3,4), dtype = np.int32)))\n",
    "print(np.where(B > 20, B, 0))"
   ]
  },
  {
   "cell_type": "code",
   "execution_count": 104,
   "metadata": {},
   "outputs": [
    {
     "name": "stdout",
     "output_type": "stream",
     "text": [
      "[[False False  True False]\n",
      " [ True False False  True]\n",
      " [False  True False False]]\n",
      "[ 3 15  9 21]\n",
      "[ 3 15  9 21]\n",
      "[[0 0 0 0]\n",
      " [1 1 1 1]\n",
      " [2 2 2 2]]\n",
      "[[0 1 2 3]\n",
      " [0 1 2 3]\n",
      " [0 1 2 3]]\n",
      "[0 1 1 2] [2 0 3 1]\n",
      "[ 3 15  9 21]\n"
     ]
    }
   ],
   "source": [
    "cond = np.mod(B, 3) == 0\n",
    "print(cond)\n",
    "\n",
    "'''\n",
    "返回满足条件'cond'的元素\n",
    "'''\n",
    "print(np.extract(cond, B))\n",
    "print(B[cond])\n",
    "\n",
    "C = np.fromfunction(lambda a, b : a, shape = B.shape, dtype = np.int32)\n",
    "D = np.fromfunction(lambda a, b : b, (3,4), dtype = np.int)\n",
    "print(C)\n",
    "print(D)\n",
    "print(C[cond], D[cond])\n",
    "print(B[C[cond], D[cond]])"
   ]
  },
  {
   "cell_type": "markdown",
   "metadata": {},
   "source": [
    "<center> <font color = #82318E size = 3 face = \"微软雅黑\" > numpy 这个 module 真 · 学了好久 </font> </center>\n",
    "<center> <font color = #82318E size = 3 face = \"微软雅黑\" > 但 numpy 真 · 强大: 基本可以实现Matlabの大部分功能啦~ </font> </center>\n",
    "<center> <font color = #82318E size = 3 face = \"微软雅黑\" > By the way,\n",
    "https://docs.scipy.org/doc/numpy/genindex.html 这是手册的网址, 超级有用~ </font> </center>"
   ]
  },
  {
   "cell_type": "code",
   "execution_count": null,
   "metadata": {
    "collapsed": true
   },
   "outputs": [],
   "source": []
  }
 ],
 "metadata": {
  "kernelspec": {
   "display_name": "Python 3",
   "language": "python",
   "name": "python3"
  },
  "language_info": {
   "codemirror_mode": {
    "name": "ipython",
    "version": 3
   },
   "file_extension": ".py",
   "mimetype": "text/x-python",
   "name": "python",
   "nbconvert_exporter": "python",
   "pygments_lexer": "ipython3",
   "version": "3.6.1"
  }
 },
 "nbformat": 4,
 "nbformat_minor": 2
}
